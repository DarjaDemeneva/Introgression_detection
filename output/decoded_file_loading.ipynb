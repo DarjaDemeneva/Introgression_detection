{
 "cells": [
  {
   "cell_type": "code",
   "execution_count": null,
   "metadata": {},
   "outputs": [],
   "source": [
    "import polars as pl\n",
    "import pandas as pd\n",
    "import numpy as np\n",
    "import seaborn as sns\n",
    "import plotly.express as px\n",
    "import pyarrow as pyarrow\n",
    "\n",
    "import glob "
   ]
  },
  {
   "cell_type": "code",
   "execution_count": null,
   "metadata": {},
   "outputs": [],
   "source": [
    "# Only run when loading files for the first time \n",
    "\n",
    "# Getting all decoded files \n",
    "decoded_files = glob.glob(\"pos_ct/*/*.decoded.hap*.txt\")\n",
    "\n",
    "# create list for storing df from each file \n",
    "dfs = []\n",
    "\n",
    "# for each file extract pop and ID from the file name and add to each df \n",
    "for file in decoded_files:\n",
    "    file_name = file.split('.')[0]\n",
    "    ind_id = file_name.split('/')[2]\n",
    "    pop = file_name.split('/')[1]\n",
    "    \n",
    "    df = pl.read_csv(file, has_header=True, separator='\\t')\n",
    "    \n",
    "    # Adding ID and pop to each df\n",
    "    df_1 = df.with_columns( # with _columns to add columns to a data frame \n",
    "        (pl.lit(ind_id).alias(\"ID\")), # pl.lit returns literal value pl.alias to name a column\n",
    "        (pl.lit(pop).alias(\"pop\")),\n",
    "        (pl.col(\"end\") + 1000) # adding 1000 to the end coordinate to match fragment length \n",
    "        )\n",
    "    # print(df_1.head(5))\n",
    "\n",
    "    dfs.append(df_1) # adding df to the dfs list \n",
    "\n",
    "# concatenating dfs from the list \n",
    "decoded_df = pl.concat(dfs) \n",
    "\n",
    "# Saving to csv file to avoid runninng the code every time \n",
    "decoded_df.write_csv(\"decoded_df.csv\", separator=\"\\t\", has_header=True)"
   ]
  },
  {
   "cell_type": "code",
   "execution_count": null,
   "metadata": {},
   "outputs": [],
   "source": [
    "# Read saved csv file containing all decoded files\n",
    "decoded_df = pl.read_csv(\"decoded_df.csv\", separator=\"\\t\", has_header=True)\n",
    "decoded_df"
   ]
  },
  {
   "cell_type": "code",
   "execution_count": null,
   "metadata": {},
   "outputs": [],
   "source": [
    "# Getting total fragments for each population \n",
    "decoded_df_GBR = decoded_df.filter(pl.col(\"pop\") == \"GBR\")\n",
    "print(decoded_df_GBR)\n",
    "\n",
    "decoded_df_CHS = decoded_df.filter(pl.col(\"pop\") == \"CHS\")\n",
    "print(decoded_df_CHS)"
   ]
  }
 ],
 "metadata": {
  "language_info": {
   "name": "python"
  },
  "orig_nbformat": 4
 },
 "nbformat": 4,
 "nbformat_minor": 2
}
