{
 "cells": [
  {
   "cell_type": "code",
   "execution_count": 1,
   "metadata": {},
   "outputs": [],
   "source": [
    "import polars as pl\n",
    "import pandas as pd\n",
    "import numpy as np\n",
    "import seaborn as sns\n",
    "import plotly.express as px\n",
    "import pyarrow as pyarrow\n",
    "\n",
    "import glob "
   ]
  },
  {
   "cell_type": "code",
   "execution_count": null,
   "metadata": {},
   "outputs": [],
   "source": [
    "# Only run when loading files for the first time \n",
    "\n",
    "# Getting all decoded files \n",
    "decoded_files = glob.glob(\"pos_ct/*/*.decoded.hap*.txt\")\n",
    "\n",
    "# create list for storing df from each file \n",
    "dfs = []\n",
    "\n",
    "# for each file extract pop and ID from the file name and add to each df \n",
    "for file in decoded_files:\n",
    "    file_name = file.split('.')[0]\n",
    "    ind_id = file_name.split('/')[2]\n",
    "    pop = file_name.split('/')[1]\n",
    "    \n",
    "    df = pl.read_csv(file, has_header=True, separator='\\t')\n",
    "    \n",
    "    # Adding ID and pop to each df\n",
    "    df_1 = df.with_columns( # with _columns to add columns to a data frame \n",
    "        (pl.lit(ind_id).alias(\"ID\")), # pl.lit returns literal value pl.alias to name a column\n",
    "        (pl.lit(pop).alias(\"pop\")),\n",
    "        (pl.col(\"end\") + 1000) # adding 1000 to the end coordinate to match fragment length \n",
    "        )\n",
    "    # print(df_1.head(5))\n",
    "\n",
    "    dfs.append(df_1) # adding df to the dfs list \n",
    "\n",
    "# concatenating dfs from the list \n",
    "decoded_df = pl.concat(dfs) \n",
    "\n",
    "# Saving to csv file to avoid runninng the code every time \n",
    "decoded_df.write_csv(\"decoded_df.csv\", separator=\"\\t\", has_header=True)"
   ]
  },
  {
   "cell_type": "code",
   "execution_count": 2,
   "metadata": {},
   "outputs": [
    {
     "data": {
      "text/html": [
       "<div><style>\n",
       ".dataframe > thead > tr > th,\n",
       ".dataframe > tbody > tr > td {\n",
       "  text-align: right;\n",
       "}\n",
       "</style>\n",
       "<small>shape: (1_569_932, 9)</small><table border=\"1\" class=\"dataframe\"><thead><tr><th>chrom</th><th>start</th><th>end</th><th>length</th><th>state</th><th>mean_prob</th><th>snps</th><th>ID</th><th>pop</th></tr><tr><td>i64</td><td>i64</td><td>i64</td><td>i64</td><td>str</td><td>f64</td><td>i64</td><td>str</td><td>str</td></tr></thead><tbody><tr><td>1</td><td>0</td><td>2132000</td><td>2132000</td><td>&quot;Human&quot;</td><td>0.98143</td><td>33</td><td>&quot;HG00265&quot;</td><td>&quot;GBR&quot;</td></tr><tr><td>1</td><td>2132000</td><td>2170000</td><td>38000</td><td>&quot;Archaic&quot;</td><td>0.68501</td><td>7</td><td>&quot;HG00265&quot;</td><td>&quot;GBR&quot;</td></tr><tr><td>1</td><td>2170000</td><td>3421000</td><td>1251000</td><td>&quot;Human&quot;</td><td>0.9859</td><td>41</td><td>&quot;HG00265&quot;</td><td>&quot;GBR&quot;</td></tr><tr><td>1</td><td>3421000</td><td>3452000</td><td>31000</td><td>&quot;Archaic&quot;</td><td>0.94517</td><td>23</td><td>&quot;HG00265&quot;</td><td>&quot;GBR&quot;</td></tr><tr><td>1</td><td>3452000</td><td>4526000</td><td>1074000</td><td>&quot;Human&quot;</td><td>0.99345</td><td>27</td><td>&quot;HG00265&quot;</td><td>&quot;GBR&quot;</td></tr><tr><td>1</td><td>4526000</td><td>4553000</td><td>27000</td><td>&quot;Archaic&quot;</td><td>0.9219</td><td>11</td><td>&quot;HG00265&quot;</td><td>&quot;GBR&quot;</td></tr><tr><td>1</td><td>4553000</td><td>5021000</td><td>468000</td><td>&quot;Human&quot;</td><td>0.98596</td><td>13</td><td>&quot;HG00265&quot;</td><td>&quot;GBR&quot;</td></tr><tr><td>1</td><td>5021000</td><td>5083000</td><td>62000</td><td>&quot;Archaic&quot;</td><td>0.971</td><td>37</td><td>&quot;HG00265&quot;</td><td>&quot;GBR&quot;</td></tr><tr><td>1</td><td>5083000</td><td>5920000</td><td>837000</td><td>&quot;Human&quot;</td><td>0.99293</td><td>17</td><td>&quot;HG00265&quot;</td><td>&quot;GBR&quot;</td></tr><tr><td>1</td><td>5920000</td><td>5932000</td><td>12000</td><td>&quot;Archaic&quot;</td><td>0.74286</td><td>5</td><td>&quot;HG00265&quot;</td><td>&quot;GBR&quot;</td></tr><tr><td>1</td><td>5932000</td><td>6157000</td><td>225000</td><td>&quot;Human&quot;</td><td>0.9822</td><td>3</td><td>&quot;HG00265&quot;</td><td>&quot;GBR&quot;</td></tr><tr><td>1</td><td>6157000</td><td>6196000</td><td>39000</td><td>&quot;Archaic&quot;</td><td>0.93559</td><td>13</td><td>&quot;HG00265&quot;</td><td>&quot;GBR&quot;</td></tr><tr><td>&hellip;</td><td>&hellip;</td><td>&hellip;</td><td>&hellip;</td><td>&hellip;</td><td>&hellip;</td><td>&hellip;</td><td>&hellip;</td><td>&hellip;</td></tr><tr><td>22</td><td>48854000</td><td>48909000</td><td>55000</td><td>&quot;Archaic&quot;</td><td>0.91509</td><td>15</td><td>&quot;HG00560&quot;</td><td>&quot;CHS&quot;</td></tr><tr><td>22</td><td>48909000</td><td>49557000</td><td>648000</td><td>&quot;Human&quot;</td><td>0.99517</td><td>21</td><td>&quot;HG00560&quot;</td><td>&quot;CHS&quot;</td></tr><tr><td>22</td><td>49557000</td><td>49580000</td><td>23000</td><td>&quot;Archaic&quot;</td><td>0.96021</td><td>17</td><td>&quot;HG00560&quot;</td><td>&quot;CHS&quot;</td></tr><tr><td>22</td><td>49580000</td><td>49639000</td><td>59000</td><td>&quot;Human&quot;</td><td>0.94416</td><td>5</td><td>&quot;HG00560&quot;</td><td>&quot;CHS&quot;</td></tr><tr><td>22</td><td>49639000</td><td>49648000</td><td>9000</td><td>&quot;Archaic&quot;</td><td>0.83621</td><td>6</td><td>&quot;HG00560&quot;</td><td>&quot;CHS&quot;</td></tr><tr><td>22</td><td>49648000</td><td>49869000</td><td>221000</td><td>&quot;Human&quot;</td><td>0.98048</td><td>10</td><td>&quot;HG00560&quot;</td><td>&quot;CHS&quot;</td></tr><tr><td>22</td><td>49869000</td><td>49876000</td><td>7000</td><td>&quot;Archaic&quot;</td><td>0.6235</td><td>4</td><td>&quot;HG00560&quot;</td><td>&quot;CHS&quot;</td></tr><tr><td>22</td><td>49876000</td><td>50344000</td><td>468000</td><td>&quot;Human&quot;</td><td>0.99364</td><td>8</td><td>&quot;HG00560&quot;</td><td>&quot;CHS&quot;</td></tr><tr><td>22</td><td>50344000</td><td>50351000</td><td>7000</td><td>&quot;Archaic&quot;</td><td>0.80228</td><td>5</td><td>&quot;HG00560&quot;</td><td>&quot;CHS&quot;</td></tr><tr><td>22</td><td>50351000</td><td>51079000</td><td>728000</td><td>&quot;Human&quot;</td><td>0.99136</td><td>16</td><td>&quot;HG00560&quot;</td><td>&quot;CHS&quot;</td></tr><tr><td>22</td><td>51079000</td><td>51101000</td><td>22000</td><td>&quot;Archaic&quot;</td><td>0.7018</td><td>5</td><td>&quot;HG00560&quot;</td><td>&quot;CHS&quot;</td></tr><tr><td>22</td><td>51101000</td><td>51177000</td><td>76000</td><td>&quot;Human&quot;</td><td>0.95739</td><td>4</td><td>&quot;HG00560&quot;</td><td>&quot;CHS&quot;</td></tr></tbody></table></div>"
      ],
      "text/plain": [
       "shape: (1_569_932, 9)\n",
       "┌───────┬──────────┬──────────┬─────────┬───┬───────────┬──────┬─────────┬─────┐\n",
       "│ chrom ┆ start    ┆ end      ┆ length  ┆ … ┆ mean_prob ┆ snps ┆ ID      ┆ pop │\n",
       "│ ---   ┆ ---      ┆ ---      ┆ ---     ┆   ┆ ---       ┆ ---  ┆ ---     ┆ --- │\n",
       "│ i64   ┆ i64      ┆ i64      ┆ i64     ┆   ┆ f64       ┆ i64  ┆ str     ┆ str │\n",
       "╞═══════╪══════════╪══════════╪═════════╪═══╪═══════════╪══════╪═════════╪═════╡\n",
       "│ 1     ┆ 0        ┆ 2132000  ┆ 2132000 ┆ … ┆ 0.98143   ┆ 33   ┆ HG00265 ┆ GBR │\n",
       "│ 1     ┆ 2132000  ┆ 2170000  ┆ 38000   ┆ … ┆ 0.68501   ┆ 7    ┆ HG00265 ┆ GBR │\n",
       "│ 1     ┆ 2170000  ┆ 3421000  ┆ 1251000 ┆ … ┆ 0.9859    ┆ 41   ┆ HG00265 ┆ GBR │\n",
       "│ 1     ┆ 3421000  ┆ 3452000  ┆ 31000   ┆ … ┆ 0.94517   ┆ 23   ┆ HG00265 ┆ GBR │\n",
       "│ …     ┆ …        ┆ …        ┆ …       ┆ … ┆ …         ┆ …    ┆ …       ┆ …   │\n",
       "│ 22    ┆ 50344000 ┆ 50351000 ┆ 7000    ┆ … ┆ 0.80228   ┆ 5    ┆ HG00560 ┆ CHS │\n",
       "│ 22    ┆ 50351000 ┆ 51079000 ┆ 728000  ┆ … ┆ 0.99136   ┆ 16   ┆ HG00560 ┆ CHS │\n",
       "│ 22    ┆ 51079000 ┆ 51101000 ┆ 22000   ┆ … ┆ 0.7018    ┆ 5    ┆ HG00560 ┆ CHS │\n",
       "│ 22    ┆ 51101000 ┆ 51177000 ┆ 76000   ┆ … ┆ 0.95739   ┆ 4    ┆ HG00560 ┆ CHS │\n",
       "└───────┴──────────┴──────────┴─────────┴───┴───────────┴──────┴─────────┴─────┘"
      ]
     },
     "execution_count": 2,
     "metadata": {},
     "output_type": "execute_result"
    }
   ],
   "source": [
    "# Read saved csv file containing all decoded files\n",
    "decoded_df = pl.read_csv(\"decoded_df.csv\", separator=\"\\t\", has_header=True)\n",
    "decoded_df"
   ]
  },
  {
   "cell_type": "code",
   "execution_count": null,
   "metadata": {},
   "outputs": [],
   "source": [
    "# Getting total fragments for each population \n",
    "decoded_df_GBR = decoded_df.filter(pl.col(\"pop\") == \"GBR\")\n",
    "print(decoded_df_GBR)\n",
    "\n",
    "decoded_df_CHS = decoded_df.filter(pl.col(\"pop\") == \"CHS\")\n",
    "print(decoded_df_CHS)"
   ]
  }
 ],
 "metadata": {
  "kernelspec": {
   "display_name": "darja_input_files",
   "language": "python",
   "name": "darja_input_files"
  },
  "language_info": {
   "codemirror_mode": {
    "name": "ipython",
    "version": 3
   },
   "file_extension": ".py",
   "mimetype": "text/x-python",
   "name": "python",
   "nbconvert_exporter": "python",
   "pygments_lexer": "ipython3",
   "version": "3.10.12"
  },
  "orig_nbformat": 4
 },
 "nbformat": 4,
 "nbformat_minor": 2
}
