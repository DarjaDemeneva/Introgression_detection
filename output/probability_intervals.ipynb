{
 "cells": [
  {
   "cell_type": "code",
   "execution_count": null,
   "metadata": {},
   "outputs": [],
   "source": [
    "import polars as pl\n",
    "import pandas as pd\n",
    "import numpy as np\n",
    "import seaborn as sns\n",
    "import plotly.express as px\n",
    "import pyarrow as pyarrow\n",
    "\n",
    "import glob \n",
    "archaic_df = pl.read_csv(\"archaic_df.csv\", separator=\"\\t\", heas_header=True) "
   ]
  },
  {
   "cell_type": "code",
   "execution_count": null,
   "metadata": {},
   "outputs": [],
   "source": [
    "# archaic_df = dataframe with Archaic fragments and added posterior probability interval column \n",
    "\n",
    "def interval(prob: float) -> str:\n",
    "    \"\"\"Define a function for binning mean_prob into intervals \n",
    "    \"\"\"\n",
    "    if prob >= 0.5 and prob < 0.6:\n",
    "        return(\"[0.5-0.6)\")\n",
    "    elif prob >= 0.6 and prob < 0.7:\n",
    "        return(\"[0.6-0.7)\")\n",
    "    elif prob >= 0.7 and prob < 0.8:\n",
    "        return(\"[0.7-0.8)\")\n",
    "    elif prob >= 0.8 and prob < 0.9:\n",
    "        return(\"[0.8-0.9)\")\n",
    "    elif prob >= 0.9 and prob < 0.95:\n",
    "        return(\"[0.9-0.95)\")\n",
    "    elif prob >= 0.95 and prob < 0.99:\n",
    "        return(\"[0.95-0.99)\")\n",
    "    elif prob >= 0.99 and prob < 1:\n",
    "        return(\"[0.99-1)\")\n",
    "    elif prob == 1:\n",
    "        return(\"1\")\n",
    "\n",
    "# Archaic only df with added column of posterior probability intervals for further processing. Without snp count and coordinates. \n",
    "archaic_df = (decoded_df.filter(pl.col(\"state\") == \"Archaic\")\n",
    "              .select([\"pop\", \"ID\", \"length\", \"mean_prob\"])\n",
    "              .with_columns(\n",
    "                  (pl.col(\"mean_prob\").apply(lambda x: interval(x)).alias(\"interval_prob\"),\n",
    "                   pl.col(\"mean_prob\").round(1).alias(\"rounded_mean_prob\"))\n",
    "))\n",
    "print(archaic_df)"
   ]
  },
  {
   "cell_type": "code",
   "execution_count": null,
   "metadata": {},
   "outputs": [],
   "source": [
    "# Getting all archaic fragment count for each population \n",
    "archaic_df_GBR = archaic_df.filter(pl.col(\"pop\") == \"GBR\")\n",
    "print(archaic_df_GBR)\n",
    "\n",
    "archaic_df_CHS = archaic_df.filter(pl.col(\"pop\") == \"CHS\")\n",
    "print(archaic_df_CHS)"
   ]
  },
  {
   "cell_type": "code",
   "execution_count": null,
   "metadata": {},
   "outputs": [],
   "source": [
    "# Plotting a boxplot of archaic fragment length in probability intervals in two populations \n",
    "px.box(archaic_df, x=\"interval_prob\", y=\"length\", color=\"pop\",  \n",
    "           labels={\"pop\":\"populations\", \"interval_prob\":\"posterior probability interval\", \"length\":\"archaic fragment length\"},\n",
    "           width=1000)"
   ]
  },
  {
   "cell_type": "code",
   "execution_count": null,
   "metadata": {},
   "outputs": [],
   "source": [
    "# Plotting a histogram of fragment length against rounded mean_prob\n",
    "px.histogram(archaic_df, x=\"length\", color=\"rounded_mean_prob\", log_x=True, \n",
    "            category_orders={\"rounded_mean_prob\":[0.5, 0.6, 0.7, 0.8, 0.9, 1]},\n",
    "            labels={\"rounded_mean_prob\":\"rounded posterior probability\"}, \n",
    "            title=\"Archaic fragment length distribution (log-scaled) based on posterior probability cut-off values\",\n",
    "            opacity=0.8,\n",
    "            width=1000)"
   ]
  },
  {
   "cell_type": "code",
   "execution_count": null,
   "metadata": {},
   "outputs": [],
   "source": [
    "# Plotting a histogram of fragment count against mean_prob\n",
    "px.histogram(archaic_df, x=\"mean_prob\", nbins=50, color=\"pop\", \n",
    "             title=\"Archaic fragment count distribution across posterior probability cut-off values\", \n",
    "             labels={\"mean_prob\":\"posterior probability\", \"pop\":\"populations\"}, range_x=(0.5, 1), \n",
    "             width=1000, opacity=0.8)"
   ]
  },
  {
   "cell_type": "code",
   "execution_count": null,
   "metadata": {},
   "outputs": [],
   "source": [
    "# Calculating all archaic fragment count and fragment length stats in defined posterior probability cutoff intervals for each pop\n",
    "interval_archaic = archaic_df.groupby([\"interval_prob\", \"pop\"]).agg(\n",
    "    (pl.count(\"interval_prob\").alias(\"fragment_count\")), \n",
    "    (pl.mean(\"length\").alias(\"mean_length\")), \n",
    "    (pl.median(\"length\").alias(\"median_length\")), \n",
    "    (pl.min(\"length\").alias(\"min_length\")), \n",
    "    (pl.max(\"length\").alias(\"max_lenght\"))\n",
    "    ).sort(\"interval_prob\")\n",
    "print(interval_archaic)\n",
    "\n",
    "# Saving interval_archaic dataframe to excel worksheet to produce a table figure \n",
    "# interval_archaic.write_excel(\"pos_ct/excel_output.xlsx\", \"probability_interval_stat\")"
   ]
  },
  {
   "cell_type": "code",
   "execution_count": null,
   "metadata": {},
   "outputs": [],
   "source": [
    "# Calculating total Archaic fragment count and fragment length stats in defined posterior probability cutoff interavals\n",
    "interval_archaic = archaic_df.groupby([\"interval_prob\", \"pop\"]).agg(\n",
    "    (pl.count(\"interval_prob\").alias(\"fragment_count\")), \n",
    "    (pl.mean(\"length\").alias(\"mean_length\")), \n",
    "    (pl.median(\"length\").alias(\"median_length\")), \n",
    "    (pl.min(\"length\").alias(\"min_length\")), \n",
    "    (pl.max(\"length\").alias(\"max_lenght\"))\n",
    "    ).sort(\"interval_prob\")\n",
    "print(interval_archaic)\n",
    "\n",
    "# Saving interval_archaic dataframe to excel worksheet to produce a table figure \n",
    "# interval_archaic.write_excel(\"pos_ct/excel_output.xlsx\", \"probability_interval_stat\")"
   ]
  }
 ],
 "metadata": {
  "language_info": {
   "name": "python"
  },
  "orig_nbformat": 4
 },
 "nbformat": 4,
 "nbformat_minor": 2
}
