{
 "cells": [
  {
   "cell_type": "code",
   "execution_count": 1,
   "metadata": {},
   "outputs": [],
   "source": [
    "import polars as pl\n",
    "import pandas as pd\n",
    "import numpy as np\n",
    "import seaborn as sns\n",
    "import plotly.express as px\n",
    "import plotly.graph_objects as go\n",
    "import pyarrow as pyarrow\n",
    "\n",
    "import glob "
   ]
  },
  {
   "cell_type": "code",
   "execution_count": 2,
   "metadata": {},
   "outputs": [
    {
     "name": "stdout",
     "output_type": "stream",
     "text": [
      "shape: (159_209, 6)\n",
      "┌──────────┬──────────┬───────────┬────────┬─────┬───────┐\n",
      "│ start    ┆ end      ┆ frequency ┆ length ┆ pop ┆ chrom │\n",
      "│ ---      ┆ ---      ┆ ---       ┆ ---    ┆ --- ┆ ---   │\n",
      "│ i64      ┆ i64      ┆ i64       ┆ i64    ┆ str ┆ i64   │\n",
      "╞══════════╪══════════╪═══════════╪════════╪═════╪═══════╡\n",
      "│ 1104000  ┆ 1107000  ┆ 1         ┆ 3000   ┆ GBR ┆ 1     │\n",
      "│ 1107000  ┆ 1128000  ┆ 2         ┆ 21000  ┆ GBR ┆ 1     │\n",
      "│ 1128000  ┆ 1129000  ┆ 1         ┆ 1000   ┆ GBR ┆ 1     │\n",
      "│ 1495000  ┆ 1521000  ┆ 2         ┆ 26000  ┆ GBR ┆ 1     │\n",
      "│ …        ┆ …        ┆ …         ┆ …      ┆ …   ┆ …     │\n",
      "│ 51056000 ┆ 51078000 ┆ 1         ┆ 22000  ┆ CHS ┆ 22    │\n",
      "│ 51078000 ┆ 51101000 ┆ 3         ┆ 23000  ┆ CHS ┆ 22    │\n",
      "│ 51101000 ┆ 51104000 ┆ 2         ┆ 3000   ┆ CHS ┆ 22    │\n",
      "│ 51104000 ┆ 51113000 ┆ 1         ┆ 9000   ┆ CHS ┆ 22    │\n",
      "└──────────┴──────────┴───────────┴────────┴─────┴───────┘\n",
      "shape: (9, 7)\n",
      "┌────────────┬───────────┬───────────┬───────────┬──────────────┬────────┬──────────┐\n",
      "│ describe   ┆ start     ┆ end       ┆ frequency ┆ length       ┆ pop    ┆ chrom    │\n",
      "│ ---        ┆ ---       ┆ ---       ┆ ---       ┆ ---          ┆ ---    ┆ ---      │\n",
      "│ str        ┆ f64       ┆ f64       ┆ f64       ┆ f64          ┆ str    ┆ f64      │\n",
      "╞════════════╪═══════════╪═══════════╪═══════════╪══════════════╪════════╪══════════╡\n",
      "│ count      ┆ 159209.0  ┆ 159209.0  ┆ 159209.0  ┆ 159209.0     ┆ 159209 ┆ 159209.0 │\n",
      "│ null_count ┆ 0.0       ┆ 0.0       ┆ 0.0       ┆ 0.0          ┆ 0      ┆ 0.0      │\n",
      "│ mean       ┆ 8.1094e7  ┆ 8.1107e7  ┆ 15.935092 ┆ 12635.17766  ┆ null   ┆ 8.458982 │\n",
      "│ std        ┆ 5.7489e7  ┆ 5.7489e7  ┆ 18.439283 ┆ 25716.285487 ┆ null   ┆ 5.561154 │\n",
      "│ min        ┆ 0.0       ┆ 4000.0    ┆ 1.0       ┆ 1000.0       ┆ CHS    ┆ 1.0      │\n",
      "│ max        ┆ 2.478e8   ┆ 2.47911e8 ┆ 173.0     ┆ 1.09e6       ┆ GBR    ┆ 22.0     │\n",
      "│ median     ┆ 7.1921e7  ┆ 7.1928e7  ┆ 9.0       ┆ 3000.0       ┆ null   ┆ 8.0      │\n",
      "│ 25%        ┆ 3.3506e7  ┆ 3.3518e7  ┆ 4.0       ┆ 1000.0       ┆ null   ┆ 4.0      │\n",
      "│ 75%        ┆ 1.17483e8 ┆ 1.17502e8 ┆ 21.0      ┆ 13000.0      ┆ null   ┆ 12.0     │\n",
      "└────────────┴───────────┴───────────┴───────────┴──────────────┴────────┴──────────┘\n"
     ]
    }
   ],
   "source": [
    "# Reading no-overlaps.csv, which contains unique non-overlapping fragments for both populations \n",
    "no_overlaps = pl.read_csv(\"no_overlaps.csv\", separator=\"\\t\", has_header=True)\n",
    "print(no_overlaps.sort(by=\"chrom\"))\n",
    "print(no_overlaps.describe())"
   ]
  },
  {
   "cell_type": "code",
   "execution_count": 3,
   "metadata": {},
   "outputs": [],
   "source": [
    "# Need to create two bedGraph files with unique non-overlapping intervals \n",
    "\n",
    "# Define a function for adding \"chr\" prefix to the chrom column values\n",
    "def add_chr(chrom):\n",
    "    chrom_string = str(chrom)\n",
    "    chr_prefixed = \"chr\" + chrom_string\n",
    "    return chr_prefixed\n",
    "\n",
    "add_chr(1)\n",
    "\n",
    "# filter for each population and apply add_chr, then select only chr, start, end, frequency and save to csv files \n",
    "bedGraph_GBR1 = no_overlaps.filter(pl.col(\"pop\") == \"GBR\").with_columns(\n",
    "    pl.col(\"chrom\").apply(lambda chrom: add_chr(chrom)) \n",
    ")\n",
    "\n",
    "bedGraph_GBR = bedGraph_GBR1.select([\"chrom\", \"start\", \"end\", \"frequency\"])\n",
    "\n",
    "# bedGraph_GBR.write_csv(\"pos_ct/GBR_bedGraph_no_overlaps.csv\", separator=\"\\t\", has_header=True)\n",
    "\n",
    "\n",
    "bedGraph_CHS1 = no_overlaps.filter(pl.col(\"pop\") == \"CHS\").with_columns(\n",
    "    pl.col(\"chrom\").apply(lambda chrom: add_chr(chrom)) \n",
    ")\n",
    "\n",
    "bedGraph_CHS = bedGraph_CHS1.select([\"chrom\", \"start\", \"end\", \"frequency\"])\n",
    "\n",
    "# bedGraph_CHS.write_csv(\"pos_ct/CHS_bedGraph_no_overlaps.csv\", separator=\"\\t\", has_header=True)"
   ]
  },
  {
   "cell_type": "code",
   "execution_count": 4,
   "metadata": {},
   "outputs": [
    {
     "data": {
      "text/html": [
       "<div><style>\n",
       ".dataframe > thead > tr > th,\n",
       ".dataframe > tbody > tr > td {\n",
       "  text-align: right;\n",
       "}\n",
       "</style>\n",
       "<small>shape: (2, 2)</small><table border=\"1\" class=\"dataframe\"><thead><tr><th>pop</th><th>total_archaic_sequence</th></tr><tr><td>str</td><td>i64</td></tr></thead><tbody><tr><td>&quot;CHS&quot;</td><td>1022025000</td></tr><tr><td>&quot;GBR&quot;</td><td>989609000</td></tr></tbody></table></div>"
      ],
      "text/plain": [
       "shape: (2, 2)\n",
       "┌─────┬────────────────────────┐\n",
       "│ pop ┆ total_archaic_sequence │\n",
       "│ --- ┆ ---                    │\n",
       "│ str ┆ i64                    │\n",
       "╞═════╪════════════════════════╡\n",
       "│ CHS ┆ 1022025000             │\n",
       "│ GBR ┆ 989609000              │\n",
       "└─────┴────────────────────────┘"
      ]
     },
     "execution_count": 4,
     "metadata": {},
     "output_type": "execute_result"
    }
   ],
   "source": [
    "# Calculating total archaic sequence per population\n",
    "total_length = no_overlaps.groupby(\"pop\").agg(\n",
    "    pl.col(\"length\").sum().alias(\"total_archaic_sequence\"))\n",
    "total_length"
   ]
  },
  {
   "cell_type": "code",
   "execution_count": 5,
   "metadata": {},
   "outputs": [
    {
     "data": {
      "text/html": [
       "<div><style>\n",
       ".dataframe > thead > tr > th,\n",
       ".dataframe > tbody > tr > td {\n",
       "  text-align: right;\n",
       "}\n",
       "</style>\n",
       "<small>shape: (44, 3)</small><table border=\"1\" class=\"dataframe\"><thead><tr><th>pop</th><th>chrom</th><th>archaic_sequence</th></tr><tr><td>str</td><td>i64</td><td>i64</td></tr></thead><tbody><tr><td>&quot;GBR&quot;</td><td>5</td><td>60390000</td></tr><tr><td>&quot;GBR&quot;</td><td>6</td><td>73622000</td></tr><tr><td>&quot;CHS&quot;</td><td>14</td><td>43400000</td></tr><tr><td>&quot;GBR&quot;</td><td>18</td><td>26242000</td></tr><tr><td>&quot;GBR&quot;</td><td>16</td><td>21455000</td></tr><tr><td>&quot;GBR&quot;</td><td>8</td><td>45182000</td></tr><tr><td>&quot;CHS&quot;</td><td>8</td><td>39156000</td></tr><tr><td>&quot;CHS&quot;</td><td>5</td><td>65621000</td></tr><tr><td>&quot;GBR&quot;</td><td>9</td><td>46784000</td></tr><tr><td>&quot;CHS&quot;</td><td>4</td><td>72074000</td></tr><tr><td>&quot;CHS&quot;</td><td>12</td><td>61964000</td></tr><tr><td>&quot;CHS&quot;</td><td>3</td><td>76818000</td></tr><tr><td>&hellip;</td><td>&hellip;</td><td>&hellip;</td></tr><tr><td>&quot;GBR&quot;</td><td>19</td><td>11372000</td></tr><tr><td>&quot;GBR&quot;</td><td>13</td><td>36696000</td></tr><tr><td>&quot;CHS&quot;</td><td>2</td><td>87498000</td></tr><tr><td>&quot;CHS&quot;</td><td>18</td><td>28819000</td></tr><tr><td>&quot;CHS&quot;</td><td>10</td><td>60250000</td></tr><tr><td>&quot;GBR&quot;</td><td>10</td><td>53898000</td></tr><tr><td>&quot;CHS&quot;</td><td>1</td><td>93036000</td></tr><tr><td>&quot;CHS&quot;</td><td>20</td><td>17619000</td></tr><tr><td>&quot;CHS&quot;</td><td>16</td><td>19978000</td></tr><tr><td>&quot;CHS&quot;</td><td>22</td><td>12258000</td></tr><tr><td>&quot;CHS&quot;</td><td>6</td><td>78416000</td></tr><tr><td>&quot;CHS&quot;</td><td>7</td><td>55068000</td></tr></tbody></table></div>"
      ],
      "text/plain": [
       "shape: (44, 3)\n",
       "┌─────┬───────┬──────────────────┐\n",
       "│ pop ┆ chrom ┆ archaic_sequence │\n",
       "│ --- ┆ ---   ┆ ---              │\n",
       "│ str ┆ i64   ┆ i64              │\n",
       "╞═════╪═══════╪══════════════════╡\n",
       "│ GBR ┆ 5     ┆ 60390000         │\n",
       "│ GBR ┆ 6     ┆ 73622000         │\n",
       "│ CHS ┆ 14    ┆ 43400000         │\n",
       "│ GBR ┆ 18    ┆ 26242000         │\n",
       "│ …   ┆ …     ┆ …                │\n",
       "│ CHS ┆ 16    ┆ 19978000         │\n",
       "│ CHS ┆ 22    ┆ 12258000         │\n",
       "│ CHS ┆ 6     ┆ 78416000         │\n",
       "│ CHS ┆ 7     ┆ 55068000         │\n",
       "└─────┴───────┴──────────────────┘"
      ]
     },
     "execution_count": 5,
     "metadata": {},
     "output_type": "execute_result"
    }
   ],
   "source": [
    "# Calculating total archaic sequence per chromosome \n",
    "total_length_chrom = no_overlaps.groupby([\"pop\", \"chrom\"]).agg(\n",
    "    archaic_sequence=pl.col(\"length\").sum() # total archaic sequence per chromosome\n",
    ")\n",
    "total_length_chrom"
   ]
  },
  {
   "cell_type": "code",
   "execution_count": 6,
   "metadata": {},
   "outputs": [
    {
     "data": {
      "text/html": [
       "<div><style>\n",
       ".dataframe > thead > tr > th,\n",
       ".dataframe > tbody > tr > td {\n",
       "  text-align: right;\n",
       "}\n",
       "</style>\n",
       "<small>shape: (44, 4)</small><table border=\"1\" class=\"dataframe\"><thead><tr><th>pop</th><th>chrom</th><th>archaic_sequence</th><th>chrom_length</th></tr><tr><td>str</td><td>i64</td><td>i64</td><td>i64</td></tr></thead><tbody><tr><td>&quot;GBR&quot;</td><td>1</td><td>86618000</td><td>249250621</td></tr><tr><td>&quot;CHS&quot;</td><td>1</td><td>93036000</td><td>249250621</td></tr><tr><td>&quot;GBR&quot;</td><td>2</td><td>91429000</td><td>243199373</td></tr><tr><td>&quot;CHS&quot;</td><td>2</td><td>87498000</td><td>243199373</td></tr><tr><td>&quot;CHS&quot;</td><td>3</td><td>76818000</td><td>198022430</td></tr><tr><td>&quot;GBR&quot;</td><td>3</td><td>73266000</td><td>198022430</td></tr><tr><td>&quot;CHS&quot;</td><td>4</td><td>72074000</td><td>191154276</td></tr><tr><td>&quot;GBR&quot;</td><td>4</td><td>69141000</td><td>191154276</td></tr><tr><td>&quot;GBR&quot;</td><td>5</td><td>60390000</td><td>180915260</td></tr><tr><td>&quot;CHS&quot;</td><td>5</td><td>65621000</td><td>180915260</td></tr><tr><td>&quot;GBR&quot;</td><td>6</td><td>73622000</td><td>171115067</td></tr><tr><td>&quot;CHS&quot;</td><td>6</td><td>78416000</td><td>171115067</td></tr><tr><td>&hellip;</td><td>&hellip;</td><td>&hellip;</td><td>&hellip;</td></tr><tr><td>&quot;GBR&quot;</td><td>17</td><td>19437000</td><td>81195210</td></tr><tr><td>&quot;CHS&quot;</td><td>17</td><td>19537000</td><td>81195210</td></tr><tr><td>&quot;GBR&quot;</td><td>18</td><td>26242000</td><td>78077248</td></tr><tr><td>&quot;CHS&quot;</td><td>18</td><td>28819000</td><td>78077248</td></tr><tr><td>&quot;CHS&quot;</td><td>19</td><td>13036000</td><td>59128983</td></tr><tr><td>&quot;GBR&quot;</td><td>19</td><td>11372000</td><td>59128983</td></tr><tr><td>&quot;GBR&quot;</td><td>20</td><td>20819000</td><td>63025520</td></tr><tr><td>&quot;CHS&quot;</td><td>20</td><td>17619000</td><td>63025520</td></tr><tr><td>&quot;CHS&quot;</td><td>21</td><td>8917000</td><td>48129895</td></tr><tr><td>&quot;GBR&quot;</td><td>21</td><td>9650000</td><td>48129895</td></tr><tr><td>&quot;GBR&quot;</td><td>22</td><td>11470000</td><td>51304566</td></tr><tr><td>&quot;CHS&quot;</td><td>22</td><td>12258000</td><td>51304566</td></tr></tbody></table></div>"
      ],
      "text/plain": [
       "shape: (44, 4)\n",
       "┌─────┬───────┬──────────────────┬──────────────┐\n",
       "│ pop ┆ chrom ┆ archaic_sequence ┆ chrom_length │\n",
       "│ --- ┆ ---   ┆ ---              ┆ ---          │\n",
       "│ str ┆ i64   ┆ i64              ┆ i64          │\n",
       "╞═════╪═══════╪══════════════════╪══════════════╡\n",
       "│ GBR ┆ 1     ┆ 86618000         ┆ 249250621    │\n",
       "│ CHS ┆ 1     ┆ 93036000         ┆ 249250621    │\n",
       "│ GBR ┆ 2     ┆ 91429000         ┆ 243199373    │\n",
       "│ CHS ┆ 2     ┆ 87498000         ┆ 243199373    │\n",
       "│ …   ┆ …     ┆ …                ┆ …            │\n",
       "│ CHS ┆ 21    ┆ 8917000          ┆ 48129895     │\n",
       "│ GBR ┆ 21    ┆ 9650000          ┆ 48129895     │\n",
       "│ GBR ┆ 22    ┆ 11470000         ┆ 51304566     │\n",
       "│ CHS ┆ 22    ┆ 12258000         ┆ 51304566     │\n",
       "└─────┴───────┴──────────────────┴──────────────┘"
      ]
     },
     "execution_count": 6,
     "metadata": {},
     "output_type": "execute_result"
    }
   ],
   "source": [
    "# Make a new dataframe with all autosome lengths (https://www.ncbi.nlm.nih.gov/grc/human/data?asm=GRCh37)\n",
    "chrom_lengths_1 = [[1, 249250621], [2, 243199373], [3, 198022430], [4, 191154276], [5, 180915260], [6, 171115067], [7, 159138663], [8, 146364022],\n",
    "[9, 141213431], [10, 135534747], [11, 135006516], [12, 133851895], [13, 115169878], [14, 107349540], [15, 102531392] , [16, 90354753], [17, 81195210], \n",
    "[18, 78077248], [19, 59128983], [20, 63025520], [21, 48129895], [22, 51304566]]\n",
    "chrom_lengths = pl.DataFrame(chrom_lengths_1, schema=[\"chrom\", \"chrom_length\"])\n",
    " \n",
    "# Cancatenate with total_length_chrom\n",
    "archaic_and_total = pl.concat([total_length_chrom, chrom_lengths], how=\"align\")\n",
    "\n",
    "archaic_and_total"
   ]
  },
  {
   "cell_type": "code",
   "execution_count": 7,
   "metadata": {},
   "outputs": [
    {
     "data": {
      "text/html": [
       "<div><style>\n",
       ".dataframe > thead > tr > th,\n",
       ".dataframe > tbody > tr > td {\n",
       "  text-align: right;\n",
       "}\n",
       "</style>\n",
       "<small>shape: (44, 5)</small><table border=\"1\" class=\"dataframe\"><thead><tr><th>pop</th><th>chrom</th><th>archaic_sequence</th><th>chrom_length</th><th>percent_coverage</th></tr><tr><td>str</td><td>i64</td><td>i64</td><td>i64</td><td>f64</td></tr></thead><tbody><tr><td>&quot;GBR&quot;</td><td>1</td><td>86618000</td><td>249250621</td><td>34.751368</td></tr><tr><td>&quot;CHS&quot;</td><td>1</td><td>93036000</td><td>249250621</td><td>37.326286</td></tr><tr><td>&quot;GBR&quot;</td><td>2</td><td>91429000</td><td>243199373</td><td>37.594258</td></tr><tr><td>&quot;CHS&quot;</td><td>2</td><td>87498000</td><td>243199373</td><td>35.977889</td></tr><tr><td>&quot;CHS&quot;</td><td>3</td><td>76818000</td><td>198022430</td><td>38.792575</td></tr><tr><td>&quot;GBR&quot;</td><td>3</td><td>73266000</td><td>198022430</td><td>36.998839</td></tr><tr><td>&quot;CHS&quot;</td><td>4</td><td>72074000</td><td>191154276</td><td>37.704623</td></tr><tr><td>&quot;GBR&quot;</td><td>4</td><td>69141000</td><td>191154276</td><td>36.170261</td></tr><tr><td>&quot;GBR&quot;</td><td>5</td><td>60390000</td><td>180915260</td><td>33.380269</td></tr><tr><td>&quot;CHS&quot;</td><td>5</td><td>65621000</td><td>180915260</td><td>36.271678</td></tr><tr><td>&quot;GBR&quot;</td><td>6</td><td>73622000</td><td>171115067</td><td>43.024849</td></tr><tr><td>&quot;CHS&quot;</td><td>6</td><td>78416000</td><td>171115067</td><td>45.826473</td></tr><tr><td>&hellip;</td><td>&hellip;</td><td>&hellip;</td><td>&hellip;</td><td>&hellip;</td></tr><tr><td>&quot;GBR&quot;</td><td>17</td><td>19437000</td><td>81195210</td><td>23.938604</td></tr><tr><td>&quot;CHS&quot;</td><td>17</td><td>19537000</td><td>81195210</td><td>24.061764</td></tr><tr><td>&quot;GBR&quot;</td><td>18</td><td>26242000</td><td>78077248</td><td>33.610303</td></tr><tr><td>&quot;CHS&quot;</td><td>18</td><td>28819000</td><td>78077248</td><td>36.910881</td></tr><tr><td>&quot;CHS&quot;</td><td>19</td><td>13036000</td><td>59128983</td><td>22.046718</td></tr><tr><td>&quot;GBR&quot;</td><td>19</td><td>11372000</td><td>59128983</td><td>19.232531</td></tr><tr><td>&quot;GBR&quot;</td><td>20</td><td>20819000</td><td>63025520</td><td>33.032651</td></tr><tr><td>&quot;CHS&quot;</td><td>20</td><td>17619000</td><td>63025520</td><td>27.955343</td></tr><tr><td>&quot;CHS&quot;</td><td>21</td><td>8917000</td><td>48129895</td><td>18.526947</td></tr><tr><td>&quot;GBR&quot;</td><td>21</td><td>9650000</td><td>48129895</td><td>20.049909</td></tr><tr><td>&quot;GBR&quot;</td><td>22</td><td>11470000</td><td>51304566</td><td>22.356685</td></tr><tr><td>&quot;CHS&quot;</td><td>22</td><td>12258000</td><td>51304566</td><td>23.89261</td></tr></tbody></table></div>"
      ],
      "text/plain": [
       "shape: (44, 5)\n",
       "┌─────┬───────┬──────────────────┬──────────────┬──────────────────┐\n",
       "│ pop ┆ chrom ┆ archaic_sequence ┆ chrom_length ┆ percent_coverage │\n",
       "│ --- ┆ ---   ┆ ---              ┆ ---          ┆ ---              │\n",
       "│ str ┆ i64   ┆ i64              ┆ i64          ┆ f64              │\n",
       "╞═════╪═══════╪══════════════════╪══════════════╪══════════════════╡\n",
       "│ GBR ┆ 1     ┆ 86618000         ┆ 249250621    ┆ 34.751368        │\n",
       "│ CHS ┆ 1     ┆ 93036000         ┆ 249250621    ┆ 37.326286        │\n",
       "│ GBR ┆ 2     ┆ 91429000         ┆ 243199373    ┆ 37.594258        │\n",
       "│ CHS ┆ 2     ┆ 87498000         ┆ 243199373    ┆ 35.977889        │\n",
       "│ …   ┆ …     ┆ …                ┆ …            ┆ …                │\n",
       "│ CHS ┆ 21    ┆ 8917000          ┆ 48129895     ┆ 18.526947        │\n",
       "│ GBR ┆ 21    ┆ 9650000          ┆ 48129895     ┆ 20.049909        │\n",
       "│ GBR ┆ 22    ┆ 11470000         ┆ 51304566     ┆ 22.356685        │\n",
       "│ CHS ┆ 22    ┆ 12258000         ┆ 51304566     ┆ 23.89261         │\n",
       "└─────┴───────┴──────────────────┴──────────────┴──────────────────┘"
      ]
     },
     "execution_count": 7,
     "metadata": {},
     "output_type": "execute_result"
    }
   ],
   "source": [
    "# Add column with % coverage of chrom by archaic sequence \n",
    "archaic_coverage = archaic_and_total.with_columns(\n",
    "    percent_coverage=pl.col(\"archaic_sequence\") / pl.col(\"chrom_length\") * 100\n",
    ")\n",
    "archaic_coverage"
   ]
  },
  {
   "cell_type": "code",
   "execution_count": 16,
   "metadata": {},
   "outputs": [
    {
     "data": {
      "application/vnd.plotly.v1+json": {
       "config": {
        "plotlyServerURL": "https://plot.ly"
       },
       "data": [
        {
         "alignmentgroup": "True",
         "hovertemplate": "populations=GBR<br>chromosome=%{x}<br>Percent coverage=%{y}<extra></extra>",
         "legendgroup": "GBR",
         "marker": {
          "color": "#636efa",
          "pattern": {
           "shape": ""
          }
         },
         "name": "GBR",
         "offsetgroup": "GBR",
         "orientation": "v",
         "showlegend": true,
         "textposition": "auto",
         "type": "bar",
         "x": [
          1,
          2,
          3,
          4,
          5,
          6,
          7,
          8,
          9,
          10,
          11,
          12,
          13,
          14,
          15,
          16,
          17,
          18,
          19,
          20,
          21,
          22
         ],
         "xaxis": "x",
         "y": [
          34.751367780945266,
          37.594258106907205,
          36.99883896990861,
          36.17026071653244,
          33.38026875123746,
          43.02484947161316,
          34.199105970872715,
          30.86960810628721,
          33.129993137834035,
          39.76692412315493,
          37.81965605274934,
          42.616505354668305,
          31.86249793544107,
          37.588423760362645,
          28.538576751206108,
          23.745292071132106,
          23.938604260029624,
          33.61030347790947,
          19.232531024590767,
          33.03265090077797,
          20.04990868980703,
          22.356684588268422
         ],
         "yaxis": "y"
        },
        {
         "alignmentgroup": "True",
         "hovertemplate": "populations=CHS<br>chromosome=%{x}<br>Percent coverage=%{y}<extra></extra>",
         "legendgroup": "CHS",
         "marker": {
          "color": "#EF553B",
          "pattern": {
           "shape": ""
          }
         },
         "name": "CHS",
         "offsetgroup": "CHS",
         "orientation": "v",
         "showlegend": true,
         "textposition": "auto",
         "type": "bar",
         "x": [
          1,
          2,
          3,
          4,
          5,
          6,
          7,
          8,
          9,
          10,
          11,
          12,
          13,
          14,
          15,
          16,
          17,
          18,
          19,
          20,
          21,
          22
         ],
         "xaxis": "x",
         "y": [
          37.326286139925,
          35.97788880812616,
          38.79257516433871,
          37.70462346340607,
          36.271677690428106,
          45.826473013039816,
          34.60378449955935,
          26.75247609689217,
          36.121918176465805,
          44.453545185722746,
          34.51907462007241,
          46.29295685354324,
          32.454666662058976,
          40.42867812940791,
          32.74119208290862,
          22.110624329856783,
          24.061764234614333,
          36.91088087530954,
          22.04671776614186,
          27.95534253426231,
          18.52694671367972,
          23.89261026006925
         ],
         "yaxis": "y"
        }
       ],
       "layout": {
        "barmode": "group",
        "legend": {
         "title": {
          "text": "populations"
         },
         "tracegroupgap": 0
        },
        "margin": {
         "t": 60
        },
        "template": {
         "data": {
          "bar": [
           {
            "error_x": {
             "color": "#2a3f5f"
            },
            "error_y": {
             "color": "#2a3f5f"
            },
            "marker": {
             "line": {
              "color": "#E5ECF6",
              "width": 0.5
             },
             "pattern": {
              "fillmode": "overlay",
              "size": 10,
              "solidity": 0.2
             }
            },
            "type": "bar"
           }
          ],
          "barpolar": [
           {
            "marker": {
             "line": {
              "color": "#E5ECF6",
              "width": 0.5
             },
             "pattern": {
              "fillmode": "overlay",
              "size": 10,
              "solidity": 0.2
             }
            },
            "type": "barpolar"
           }
          ],
          "carpet": [
           {
            "aaxis": {
             "endlinecolor": "#2a3f5f",
             "gridcolor": "white",
             "linecolor": "white",
             "minorgridcolor": "white",
             "startlinecolor": "#2a3f5f"
            },
            "baxis": {
             "endlinecolor": "#2a3f5f",
             "gridcolor": "white",
             "linecolor": "white",
             "minorgridcolor": "white",
             "startlinecolor": "#2a3f5f"
            },
            "type": "carpet"
           }
          ],
          "choropleth": [
           {
            "colorbar": {
             "outlinewidth": 0,
             "ticks": ""
            },
            "type": "choropleth"
           }
          ],
          "contour": [
           {
            "colorbar": {
             "outlinewidth": 0,
             "ticks": ""
            },
            "colorscale": [
             [
              0,
              "#0d0887"
             ],
             [
              0.1111111111111111,
              "#46039f"
             ],
             [
              0.2222222222222222,
              "#7201a8"
             ],
             [
              0.3333333333333333,
              "#9c179e"
             ],
             [
              0.4444444444444444,
              "#bd3786"
             ],
             [
              0.5555555555555556,
              "#d8576b"
             ],
             [
              0.6666666666666666,
              "#ed7953"
             ],
             [
              0.7777777777777778,
              "#fb9f3a"
             ],
             [
              0.8888888888888888,
              "#fdca26"
             ],
             [
              1,
              "#f0f921"
             ]
            ],
            "type": "contour"
           }
          ],
          "contourcarpet": [
           {
            "colorbar": {
             "outlinewidth": 0,
             "ticks": ""
            },
            "type": "contourcarpet"
           }
          ],
          "heatmap": [
           {
            "colorbar": {
             "outlinewidth": 0,
             "ticks": ""
            },
            "colorscale": [
             [
              0,
              "#0d0887"
             ],
             [
              0.1111111111111111,
              "#46039f"
             ],
             [
              0.2222222222222222,
              "#7201a8"
             ],
             [
              0.3333333333333333,
              "#9c179e"
             ],
             [
              0.4444444444444444,
              "#bd3786"
             ],
             [
              0.5555555555555556,
              "#d8576b"
             ],
             [
              0.6666666666666666,
              "#ed7953"
             ],
             [
              0.7777777777777778,
              "#fb9f3a"
             ],
             [
              0.8888888888888888,
              "#fdca26"
             ],
             [
              1,
              "#f0f921"
             ]
            ],
            "type": "heatmap"
           }
          ],
          "heatmapgl": [
           {
            "colorbar": {
             "outlinewidth": 0,
             "ticks": ""
            },
            "colorscale": [
             [
              0,
              "#0d0887"
             ],
             [
              0.1111111111111111,
              "#46039f"
             ],
             [
              0.2222222222222222,
              "#7201a8"
             ],
             [
              0.3333333333333333,
              "#9c179e"
             ],
             [
              0.4444444444444444,
              "#bd3786"
             ],
             [
              0.5555555555555556,
              "#d8576b"
             ],
             [
              0.6666666666666666,
              "#ed7953"
             ],
             [
              0.7777777777777778,
              "#fb9f3a"
             ],
             [
              0.8888888888888888,
              "#fdca26"
             ],
             [
              1,
              "#f0f921"
             ]
            ],
            "type": "heatmapgl"
           }
          ],
          "histogram": [
           {
            "marker": {
             "pattern": {
              "fillmode": "overlay",
              "size": 10,
              "solidity": 0.2
             }
            },
            "type": "histogram"
           }
          ],
          "histogram2d": [
           {
            "colorbar": {
             "outlinewidth": 0,
             "ticks": ""
            },
            "colorscale": [
             [
              0,
              "#0d0887"
             ],
             [
              0.1111111111111111,
              "#46039f"
             ],
             [
              0.2222222222222222,
              "#7201a8"
             ],
             [
              0.3333333333333333,
              "#9c179e"
             ],
             [
              0.4444444444444444,
              "#bd3786"
             ],
             [
              0.5555555555555556,
              "#d8576b"
             ],
             [
              0.6666666666666666,
              "#ed7953"
             ],
             [
              0.7777777777777778,
              "#fb9f3a"
             ],
             [
              0.8888888888888888,
              "#fdca26"
             ],
             [
              1,
              "#f0f921"
             ]
            ],
            "type": "histogram2d"
           }
          ],
          "histogram2dcontour": [
           {
            "colorbar": {
             "outlinewidth": 0,
             "ticks": ""
            },
            "colorscale": [
             [
              0,
              "#0d0887"
             ],
             [
              0.1111111111111111,
              "#46039f"
             ],
             [
              0.2222222222222222,
              "#7201a8"
             ],
             [
              0.3333333333333333,
              "#9c179e"
             ],
             [
              0.4444444444444444,
              "#bd3786"
             ],
             [
              0.5555555555555556,
              "#d8576b"
             ],
             [
              0.6666666666666666,
              "#ed7953"
             ],
             [
              0.7777777777777778,
              "#fb9f3a"
             ],
             [
              0.8888888888888888,
              "#fdca26"
             ],
             [
              1,
              "#f0f921"
             ]
            ],
            "type": "histogram2dcontour"
           }
          ],
          "mesh3d": [
           {
            "colorbar": {
             "outlinewidth": 0,
             "ticks": ""
            },
            "type": "mesh3d"
           }
          ],
          "parcoords": [
           {
            "line": {
             "colorbar": {
              "outlinewidth": 0,
              "ticks": ""
             }
            },
            "type": "parcoords"
           }
          ],
          "pie": [
           {
            "automargin": true,
            "type": "pie"
           }
          ],
          "scatter": [
           {
            "fillpattern": {
             "fillmode": "overlay",
             "size": 10,
             "solidity": 0.2
            },
            "type": "scatter"
           }
          ],
          "scatter3d": [
           {
            "line": {
             "colorbar": {
              "outlinewidth": 0,
              "ticks": ""
             }
            },
            "marker": {
             "colorbar": {
              "outlinewidth": 0,
              "ticks": ""
             }
            },
            "type": "scatter3d"
           }
          ],
          "scattercarpet": [
           {
            "marker": {
             "colorbar": {
              "outlinewidth": 0,
              "ticks": ""
             }
            },
            "type": "scattercarpet"
           }
          ],
          "scattergeo": [
           {
            "marker": {
             "colorbar": {
              "outlinewidth": 0,
              "ticks": ""
             }
            },
            "type": "scattergeo"
           }
          ],
          "scattergl": [
           {
            "marker": {
             "colorbar": {
              "outlinewidth": 0,
              "ticks": ""
             }
            },
            "type": "scattergl"
           }
          ],
          "scattermapbox": [
           {
            "marker": {
             "colorbar": {
              "outlinewidth": 0,
              "ticks": ""
             }
            },
            "type": "scattermapbox"
           }
          ],
          "scatterpolar": [
           {
            "marker": {
             "colorbar": {
              "outlinewidth": 0,
              "ticks": ""
             }
            },
            "type": "scatterpolar"
           }
          ],
          "scatterpolargl": [
           {
            "marker": {
             "colorbar": {
              "outlinewidth": 0,
              "ticks": ""
             }
            },
            "type": "scatterpolargl"
           }
          ],
          "scatterternary": [
           {
            "marker": {
             "colorbar": {
              "outlinewidth": 0,
              "ticks": ""
             }
            },
            "type": "scatterternary"
           }
          ],
          "surface": [
           {
            "colorbar": {
             "outlinewidth": 0,
             "ticks": ""
            },
            "colorscale": [
             [
              0,
              "#0d0887"
             ],
             [
              0.1111111111111111,
              "#46039f"
             ],
             [
              0.2222222222222222,
              "#7201a8"
             ],
             [
              0.3333333333333333,
              "#9c179e"
             ],
             [
              0.4444444444444444,
              "#bd3786"
             ],
             [
              0.5555555555555556,
              "#d8576b"
             ],
             [
              0.6666666666666666,
              "#ed7953"
             ],
             [
              0.7777777777777778,
              "#fb9f3a"
             ],
             [
              0.8888888888888888,
              "#fdca26"
             ],
             [
              1,
              "#f0f921"
             ]
            ],
            "type": "surface"
           }
          ],
          "table": [
           {
            "cells": {
             "fill": {
              "color": "#EBF0F8"
             },
             "line": {
              "color": "white"
             }
            },
            "header": {
             "fill": {
              "color": "#C8D4E3"
             },
             "line": {
              "color": "white"
             }
            },
            "type": "table"
           }
          ]
         },
         "layout": {
          "annotationdefaults": {
           "arrowcolor": "#2a3f5f",
           "arrowhead": 0,
           "arrowwidth": 1
          },
          "autotypenumbers": "strict",
          "coloraxis": {
           "colorbar": {
            "outlinewidth": 0,
            "ticks": ""
           }
          },
          "colorscale": {
           "diverging": [
            [
             0,
             "#8e0152"
            ],
            [
             0.1,
             "#c51b7d"
            ],
            [
             0.2,
             "#de77ae"
            ],
            [
             0.3,
             "#f1b6da"
            ],
            [
             0.4,
             "#fde0ef"
            ],
            [
             0.5,
             "#f7f7f7"
            ],
            [
             0.6,
             "#e6f5d0"
            ],
            [
             0.7,
             "#b8e186"
            ],
            [
             0.8,
             "#7fbc41"
            ],
            [
             0.9,
             "#4d9221"
            ],
            [
             1,
             "#276419"
            ]
           ],
           "sequential": [
            [
             0,
             "#0d0887"
            ],
            [
             0.1111111111111111,
             "#46039f"
            ],
            [
             0.2222222222222222,
             "#7201a8"
            ],
            [
             0.3333333333333333,
             "#9c179e"
            ],
            [
             0.4444444444444444,
             "#bd3786"
            ],
            [
             0.5555555555555556,
             "#d8576b"
            ],
            [
             0.6666666666666666,
             "#ed7953"
            ],
            [
             0.7777777777777778,
             "#fb9f3a"
            ],
            [
             0.8888888888888888,
             "#fdca26"
            ],
            [
             1,
             "#f0f921"
            ]
           ],
           "sequentialminus": [
            [
             0,
             "#0d0887"
            ],
            [
             0.1111111111111111,
             "#46039f"
            ],
            [
             0.2222222222222222,
             "#7201a8"
            ],
            [
             0.3333333333333333,
             "#9c179e"
            ],
            [
             0.4444444444444444,
             "#bd3786"
            ],
            [
             0.5555555555555556,
             "#d8576b"
            ],
            [
             0.6666666666666666,
             "#ed7953"
            ],
            [
             0.7777777777777778,
             "#fb9f3a"
            ],
            [
             0.8888888888888888,
             "#fdca26"
            ],
            [
             1,
             "#f0f921"
            ]
           ]
          },
          "colorway": [
           "#636efa",
           "#EF553B",
           "#00cc96",
           "#ab63fa",
           "#FFA15A",
           "#19d3f3",
           "#FF6692",
           "#B6E880",
           "#FF97FF",
           "#FECB52"
          ],
          "font": {
           "color": "#2a3f5f"
          },
          "geo": {
           "bgcolor": "white",
           "lakecolor": "white",
           "landcolor": "#E5ECF6",
           "showlakes": true,
           "showland": true,
           "subunitcolor": "white"
          },
          "hoverlabel": {
           "align": "left"
          },
          "hovermode": "closest",
          "mapbox": {
           "style": "light"
          },
          "paper_bgcolor": "white",
          "plot_bgcolor": "#E5ECF6",
          "polar": {
           "angularaxis": {
            "gridcolor": "white",
            "linecolor": "white",
            "ticks": ""
           },
           "bgcolor": "#E5ECF6",
           "radialaxis": {
            "gridcolor": "white",
            "linecolor": "white",
            "ticks": ""
           }
          },
          "scene": {
           "xaxis": {
            "backgroundcolor": "#E5ECF6",
            "gridcolor": "white",
            "gridwidth": 2,
            "linecolor": "white",
            "showbackground": true,
            "ticks": "",
            "zerolinecolor": "white"
           },
           "yaxis": {
            "backgroundcolor": "#E5ECF6",
            "gridcolor": "white",
            "gridwidth": 2,
            "linecolor": "white",
            "showbackground": true,
            "ticks": "",
            "zerolinecolor": "white"
           },
           "zaxis": {
            "backgroundcolor": "#E5ECF6",
            "gridcolor": "white",
            "gridwidth": 2,
            "linecolor": "white",
            "showbackground": true,
            "ticks": "",
            "zerolinecolor": "white"
           }
          },
          "shapedefaults": {
           "line": {
            "color": "#2a3f5f"
           }
          },
          "ternary": {
           "aaxis": {
            "gridcolor": "white",
            "linecolor": "white",
            "ticks": ""
           },
           "baxis": {
            "gridcolor": "white",
            "linecolor": "white",
            "ticks": ""
           },
           "bgcolor": "#E5ECF6",
           "caxis": {
            "gridcolor": "white",
            "linecolor": "white",
            "ticks": ""
           }
          },
          "title": {
           "x": 0.05
          },
          "xaxis": {
           "automargin": true,
           "gridcolor": "white",
           "linecolor": "white",
           "ticks": "",
           "title": {
            "standoff": 15
           },
           "zerolinecolor": "white",
           "zerolinewidth": 2
          },
          "yaxis": {
           "automargin": true,
           "gridcolor": "white",
           "linecolor": "white",
           "ticks": "",
           "title": {
            "standoff": 15
           },
           "zerolinecolor": "white",
           "zerolinewidth": 2
          }
         }
        },
        "xaxis": {
         "anchor": "y",
         "domain": [
          0,
          1
         ],
         "title": {
          "text": "chromosome"
         }
        },
        "yaxis": {
         "anchor": "x",
         "domain": [
          0,
          1
         ],
         "title": {
          "text": "Percent coverage"
         }
        }
       }
      },
      "text/html": [
       "<div>                            <div id=\"0b0ddeb7-27eb-4718-b827-736e20d79faa\" class=\"plotly-graph-div\" style=\"height:525px; width:100%;\"></div>            <script type=\"text/javascript\">                require([\"plotly\"], function(Plotly) {                    window.PLOTLYENV=window.PLOTLYENV || {};                                    if (document.getElementById(\"0b0ddeb7-27eb-4718-b827-736e20d79faa\")) {                    Plotly.newPlot(                        \"0b0ddeb7-27eb-4718-b827-736e20d79faa\",                        [{\"alignmentgroup\":\"True\",\"hovertemplate\":\"populations=GBR\\u003cbr\\u003echromosome=%{x}\\u003cbr\\u003ePercent coverage=%{y}\\u003cextra\\u003e\\u003c\\u002fextra\\u003e\",\"legendgroup\":\"GBR\",\"marker\":{\"color\":\"#636efa\",\"pattern\":{\"shape\":\"\"}},\"name\":\"GBR\",\"offsetgroup\":\"GBR\",\"orientation\":\"v\",\"showlegend\":true,\"textposition\":\"auto\",\"x\":[1,2,3,4,5,6,7,8,9,10,11,12,13,14,15,16,17,18,19,20,21,22],\"xaxis\":\"x\",\"y\":[34.751367780945266,37.594258106907205,36.99883896990861,36.17026071653244,33.38026875123746,43.02484947161316,34.199105970872715,30.86960810628721,33.129993137834035,39.76692412315493,37.81965605274934,42.616505354668305,31.86249793544107,37.588423760362645,28.538576751206108,23.745292071132106,23.938604260029624,33.61030347790947,19.232531024590767,33.03265090077797,20.04990868980703,22.356684588268422],\"yaxis\":\"y\",\"type\":\"bar\"},{\"alignmentgroup\":\"True\",\"hovertemplate\":\"populations=CHS\\u003cbr\\u003echromosome=%{x}\\u003cbr\\u003ePercent coverage=%{y}\\u003cextra\\u003e\\u003c\\u002fextra\\u003e\",\"legendgroup\":\"CHS\",\"marker\":{\"color\":\"#EF553B\",\"pattern\":{\"shape\":\"\"}},\"name\":\"CHS\",\"offsetgroup\":\"CHS\",\"orientation\":\"v\",\"showlegend\":true,\"textposition\":\"auto\",\"x\":[1,2,3,4,5,6,7,8,9,10,11,12,13,14,15,16,17,18,19,20,21,22],\"xaxis\":\"x\",\"y\":[37.326286139925,35.97788880812616,38.79257516433871,37.70462346340607,36.271677690428106,45.826473013039816,34.60378449955935,26.75247609689217,36.121918176465805,44.453545185722746,34.51907462007241,46.29295685354324,32.454666662058976,40.42867812940791,32.74119208290862,22.110624329856783,24.061764234614333,36.91088087530954,22.04671776614186,27.95534253426231,18.52694671367972,23.89261026006925],\"yaxis\":\"y\",\"type\":\"bar\"}],                        {\"template\":{\"data\":{\"histogram2dcontour\":[{\"type\":\"histogram2dcontour\",\"colorbar\":{\"outlinewidth\":0,\"ticks\":\"\"},\"colorscale\":[[0.0,\"#0d0887\"],[0.1111111111111111,\"#46039f\"],[0.2222222222222222,\"#7201a8\"],[0.3333333333333333,\"#9c179e\"],[0.4444444444444444,\"#bd3786\"],[0.5555555555555556,\"#d8576b\"],[0.6666666666666666,\"#ed7953\"],[0.7777777777777778,\"#fb9f3a\"],[0.8888888888888888,\"#fdca26\"],[1.0,\"#f0f921\"]]}],\"choropleth\":[{\"type\":\"choropleth\",\"colorbar\":{\"outlinewidth\":0,\"ticks\":\"\"}}],\"histogram2d\":[{\"type\":\"histogram2d\",\"colorbar\":{\"outlinewidth\":0,\"ticks\":\"\"},\"colorscale\":[[0.0,\"#0d0887\"],[0.1111111111111111,\"#46039f\"],[0.2222222222222222,\"#7201a8\"],[0.3333333333333333,\"#9c179e\"],[0.4444444444444444,\"#bd3786\"],[0.5555555555555556,\"#d8576b\"],[0.6666666666666666,\"#ed7953\"],[0.7777777777777778,\"#fb9f3a\"],[0.8888888888888888,\"#fdca26\"],[1.0,\"#f0f921\"]]}],\"heatmap\":[{\"type\":\"heatmap\",\"colorbar\":{\"outlinewidth\":0,\"ticks\":\"\"},\"colorscale\":[[0.0,\"#0d0887\"],[0.1111111111111111,\"#46039f\"],[0.2222222222222222,\"#7201a8\"],[0.3333333333333333,\"#9c179e\"],[0.4444444444444444,\"#bd3786\"],[0.5555555555555556,\"#d8576b\"],[0.6666666666666666,\"#ed7953\"],[0.7777777777777778,\"#fb9f3a\"],[0.8888888888888888,\"#fdca26\"],[1.0,\"#f0f921\"]]}],\"heatmapgl\":[{\"type\":\"heatmapgl\",\"colorbar\":{\"outlinewidth\":0,\"ticks\":\"\"},\"colorscale\":[[0.0,\"#0d0887\"],[0.1111111111111111,\"#46039f\"],[0.2222222222222222,\"#7201a8\"],[0.3333333333333333,\"#9c179e\"],[0.4444444444444444,\"#bd3786\"],[0.5555555555555556,\"#d8576b\"],[0.6666666666666666,\"#ed7953\"],[0.7777777777777778,\"#fb9f3a\"],[0.8888888888888888,\"#fdca26\"],[1.0,\"#f0f921\"]]}],\"contourcarpet\":[{\"type\":\"contourcarpet\",\"colorbar\":{\"outlinewidth\":0,\"ticks\":\"\"}}],\"contour\":[{\"type\":\"contour\",\"colorbar\":{\"outlinewidth\":0,\"ticks\":\"\"},\"colorscale\":[[0.0,\"#0d0887\"],[0.1111111111111111,\"#46039f\"],[0.2222222222222222,\"#7201a8\"],[0.3333333333333333,\"#9c179e\"],[0.4444444444444444,\"#bd3786\"],[0.5555555555555556,\"#d8576b\"],[0.6666666666666666,\"#ed7953\"],[0.7777777777777778,\"#fb9f3a\"],[0.8888888888888888,\"#fdca26\"],[1.0,\"#f0f921\"]]}],\"surface\":[{\"type\":\"surface\",\"colorbar\":{\"outlinewidth\":0,\"ticks\":\"\"},\"colorscale\":[[0.0,\"#0d0887\"],[0.1111111111111111,\"#46039f\"],[0.2222222222222222,\"#7201a8\"],[0.3333333333333333,\"#9c179e\"],[0.4444444444444444,\"#bd3786\"],[0.5555555555555556,\"#d8576b\"],[0.6666666666666666,\"#ed7953\"],[0.7777777777777778,\"#fb9f3a\"],[0.8888888888888888,\"#fdca26\"],[1.0,\"#f0f921\"]]}],\"mesh3d\":[{\"type\":\"mesh3d\",\"colorbar\":{\"outlinewidth\":0,\"ticks\":\"\"}}],\"scatter\":[{\"fillpattern\":{\"fillmode\":\"overlay\",\"size\":10,\"solidity\":0.2},\"type\":\"scatter\"}],\"parcoords\":[{\"type\":\"parcoords\",\"line\":{\"colorbar\":{\"outlinewidth\":0,\"ticks\":\"\"}}}],\"scatterpolargl\":[{\"type\":\"scatterpolargl\",\"marker\":{\"colorbar\":{\"outlinewidth\":0,\"ticks\":\"\"}}}],\"bar\":[{\"error_x\":{\"color\":\"#2a3f5f\"},\"error_y\":{\"color\":\"#2a3f5f\"},\"marker\":{\"line\":{\"color\":\"#E5ECF6\",\"width\":0.5},\"pattern\":{\"fillmode\":\"overlay\",\"size\":10,\"solidity\":0.2}},\"type\":\"bar\"}],\"scattergeo\":[{\"type\":\"scattergeo\",\"marker\":{\"colorbar\":{\"outlinewidth\":0,\"ticks\":\"\"}}}],\"scatterpolar\":[{\"type\":\"scatterpolar\",\"marker\":{\"colorbar\":{\"outlinewidth\":0,\"ticks\":\"\"}}}],\"histogram\":[{\"marker\":{\"pattern\":{\"fillmode\":\"overlay\",\"size\":10,\"solidity\":0.2}},\"type\":\"histogram\"}],\"scattergl\":[{\"type\":\"scattergl\",\"marker\":{\"colorbar\":{\"outlinewidth\":0,\"ticks\":\"\"}}}],\"scatter3d\":[{\"type\":\"scatter3d\",\"line\":{\"colorbar\":{\"outlinewidth\":0,\"ticks\":\"\"}},\"marker\":{\"colorbar\":{\"outlinewidth\":0,\"ticks\":\"\"}}}],\"scattermapbox\":[{\"type\":\"scattermapbox\",\"marker\":{\"colorbar\":{\"outlinewidth\":0,\"ticks\":\"\"}}}],\"scatterternary\":[{\"type\":\"scatterternary\",\"marker\":{\"colorbar\":{\"outlinewidth\":0,\"ticks\":\"\"}}}],\"scattercarpet\":[{\"type\":\"scattercarpet\",\"marker\":{\"colorbar\":{\"outlinewidth\":0,\"ticks\":\"\"}}}],\"carpet\":[{\"aaxis\":{\"endlinecolor\":\"#2a3f5f\",\"gridcolor\":\"white\",\"linecolor\":\"white\",\"minorgridcolor\":\"white\",\"startlinecolor\":\"#2a3f5f\"},\"baxis\":{\"endlinecolor\":\"#2a3f5f\",\"gridcolor\":\"white\",\"linecolor\":\"white\",\"minorgridcolor\":\"white\",\"startlinecolor\":\"#2a3f5f\"},\"type\":\"carpet\"}],\"table\":[{\"cells\":{\"fill\":{\"color\":\"#EBF0F8\"},\"line\":{\"color\":\"white\"}},\"header\":{\"fill\":{\"color\":\"#C8D4E3\"},\"line\":{\"color\":\"white\"}},\"type\":\"table\"}],\"barpolar\":[{\"marker\":{\"line\":{\"color\":\"#E5ECF6\",\"width\":0.5},\"pattern\":{\"fillmode\":\"overlay\",\"size\":10,\"solidity\":0.2}},\"type\":\"barpolar\"}],\"pie\":[{\"automargin\":true,\"type\":\"pie\"}]},\"layout\":{\"autotypenumbers\":\"strict\",\"colorway\":[\"#636efa\",\"#EF553B\",\"#00cc96\",\"#ab63fa\",\"#FFA15A\",\"#19d3f3\",\"#FF6692\",\"#B6E880\",\"#FF97FF\",\"#FECB52\"],\"font\":{\"color\":\"#2a3f5f\"},\"hovermode\":\"closest\",\"hoverlabel\":{\"align\":\"left\"},\"paper_bgcolor\":\"white\",\"plot_bgcolor\":\"#E5ECF6\",\"polar\":{\"bgcolor\":\"#E5ECF6\",\"angularaxis\":{\"gridcolor\":\"white\",\"linecolor\":\"white\",\"ticks\":\"\"},\"radialaxis\":{\"gridcolor\":\"white\",\"linecolor\":\"white\",\"ticks\":\"\"}},\"ternary\":{\"bgcolor\":\"#E5ECF6\",\"aaxis\":{\"gridcolor\":\"white\",\"linecolor\":\"white\",\"ticks\":\"\"},\"baxis\":{\"gridcolor\":\"white\",\"linecolor\":\"white\",\"ticks\":\"\"},\"caxis\":{\"gridcolor\":\"white\",\"linecolor\":\"white\",\"ticks\":\"\"}},\"coloraxis\":{\"colorbar\":{\"outlinewidth\":0,\"ticks\":\"\"}},\"colorscale\":{\"sequential\":[[0.0,\"#0d0887\"],[0.1111111111111111,\"#46039f\"],[0.2222222222222222,\"#7201a8\"],[0.3333333333333333,\"#9c179e\"],[0.4444444444444444,\"#bd3786\"],[0.5555555555555556,\"#d8576b\"],[0.6666666666666666,\"#ed7953\"],[0.7777777777777778,\"#fb9f3a\"],[0.8888888888888888,\"#fdca26\"],[1.0,\"#f0f921\"]],\"sequentialminus\":[[0.0,\"#0d0887\"],[0.1111111111111111,\"#46039f\"],[0.2222222222222222,\"#7201a8\"],[0.3333333333333333,\"#9c179e\"],[0.4444444444444444,\"#bd3786\"],[0.5555555555555556,\"#d8576b\"],[0.6666666666666666,\"#ed7953\"],[0.7777777777777778,\"#fb9f3a\"],[0.8888888888888888,\"#fdca26\"],[1.0,\"#f0f921\"]],\"diverging\":[[0,\"#8e0152\"],[0.1,\"#c51b7d\"],[0.2,\"#de77ae\"],[0.3,\"#f1b6da\"],[0.4,\"#fde0ef\"],[0.5,\"#f7f7f7\"],[0.6,\"#e6f5d0\"],[0.7,\"#b8e186\"],[0.8,\"#7fbc41\"],[0.9,\"#4d9221\"],[1,\"#276419\"]]},\"xaxis\":{\"gridcolor\":\"white\",\"linecolor\":\"white\",\"ticks\":\"\",\"title\":{\"standoff\":15},\"zerolinecolor\":\"white\",\"automargin\":true,\"zerolinewidth\":2},\"yaxis\":{\"gridcolor\":\"white\",\"linecolor\":\"white\",\"ticks\":\"\",\"title\":{\"standoff\":15},\"zerolinecolor\":\"white\",\"automargin\":true,\"zerolinewidth\":2},\"scene\":{\"xaxis\":{\"backgroundcolor\":\"#E5ECF6\",\"gridcolor\":\"white\",\"linecolor\":\"white\",\"showbackground\":true,\"ticks\":\"\",\"zerolinecolor\":\"white\",\"gridwidth\":2},\"yaxis\":{\"backgroundcolor\":\"#E5ECF6\",\"gridcolor\":\"white\",\"linecolor\":\"white\",\"showbackground\":true,\"ticks\":\"\",\"zerolinecolor\":\"white\",\"gridwidth\":2},\"zaxis\":{\"backgroundcolor\":\"#E5ECF6\",\"gridcolor\":\"white\",\"linecolor\":\"white\",\"showbackground\":true,\"ticks\":\"\",\"zerolinecolor\":\"white\",\"gridwidth\":2}},\"shapedefaults\":{\"line\":{\"color\":\"#2a3f5f\"}},\"annotationdefaults\":{\"arrowcolor\":\"#2a3f5f\",\"arrowhead\":0,\"arrowwidth\":1},\"geo\":{\"bgcolor\":\"white\",\"landcolor\":\"#E5ECF6\",\"subunitcolor\":\"white\",\"showland\":true,\"showlakes\":true,\"lakecolor\":\"white\"},\"title\":{\"x\":0.05},\"mapbox\":{\"style\":\"light\"}}},\"xaxis\":{\"anchor\":\"y\",\"domain\":[0.0,1.0],\"title\":{\"text\":\"chromosome\"}},\"yaxis\":{\"anchor\":\"x\",\"domain\":[0.0,1.0],\"title\":{\"text\":\"Percent coverage\"}},\"legend\":{\"title\":{\"text\":\"populations\"},\"tracegroupgap\":0},\"margin\":{\"t\":60},\"barmode\":\"group\"},                        {\"responsive\": true}                    ).then(function(){\n",
       "                            \n",
       "var gd = document.getElementById('0b0ddeb7-27eb-4718-b827-736e20d79faa');\n",
       "var x = new MutationObserver(function (mutations, observer) {{\n",
       "        var display = window.getComputedStyle(gd).display;\n",
       "        if (!display || display === 'none') {{\n",
       "            console.log([gd, 'removed!']);\n",
       "            Plotly.purge(gd);\n",
       "            observer.disconnect();\n",
       "        }}\n",
       "}});\n",
       "\n",
       "// Listen for the removal of the full notebook cells\n",
       "var notebookContainer = gd.closest('#notebook-container');\n",
       "if (notebookContainer) {{\n",
       "    x.observe(notebookContainer, {childList: true});\n",
       "}}\n",
       "\n",
       "// Listen for the clearing of the current output cell\n",
       "var outputEl = gd.closest('.output');\n",
       "if (outputEl) {{\n",
       "    x.observe(outputEl, {childList: true});\n",
       "}}\n",
       "\n",
       "                        })                };                });            </script>        </div>"
      ]
     },
     "metadata": {},
     "output_type": "display_data"
    }
   ],
   "source": [
    "# Creage a histogram or genomic viewer of chromosome coverage with percentages \n",
    "px.bar(archaic_coverage, x=\"chrom\", y=\"percent_coverage\", color=\"pop\", barmode=\"group\",\n",
    "       labels={\"percent_coverage\":\"Percent coverage\", \"pop\":\"populations\", \"chrom\":\"chromosome\"},\n",
    "       )\n"
   ]
  },
  {
   "cell_type": "code",
   "execution_count": null,
   "metadata": {},
   "outputs": [],
   "source": []
  },
  {
   "cell_type": "code",
   "execution_count": null,
   "metadata": {},
   "outputs": [],
   "source": [
    "# Boxplot of total archaic fragment coverage across chromosomes for each pop\n",
    "px.box(no_overlaps, x=\"chrom\", y=\"length\", color=\"chrom\", \n",
    "       labels={\"pop\":\"populations\", \"lenght\":\"fragment length\", \"chrom\":\"chromosome\"},\n",
    "        title=\"Unique archaic fragment lengths across autosomes in two populations\",\n",
    "        category_orders={\"chrom\":[1, 2, 3, 4, 5, 6, 7, 8, 9, 10, 11, 12, 13, 14, 15, 16, 17, 18, 19, 20, 21, 22]},\n",
    "        width=1000))"
   ]
  }
 ],
 "metadata": {
  "kernelspec": {
   "display_name": "darja_input_files",
   "language": "python",
   "name": "darja_input_files"
  },
  "language_info": {
   "codemirror_mode": {
    "name": "ipython",
    "version": 3
   },
   "file_extension": ".py",
   "mimetype": "text/x-python",
   "name": "python",
   "nbconvert_exporter": "python",
   "pygments_lexer": "ipython3",
   "version": "3.10.12"
  },
  "orig_nbformat": 4
 },
 "nbformat": 4,
 "nbformat_minor": 2
}
