{
 "cells": [
  {
   "cell_type": "code",
   "execution_count": 4,
   "metadata": {},
   "outputs": [],
   "source": [
    "import polars as pl\n",
    "import glob \n",
    "import seaborn as sns\n",
    "import plotly.express as px\n",
    "import pyarrow as pyarrow\n",
    "\n",
    "decoded_files = glob.glob(\"pos_ct/*/*.decoded.hap*.txt\")"
   ]
  },
  {
   "cell_type": "code",
   "execution_count": 5,
   "metadata": {},
   "outputs": [
    {
     "data": {
      "text/html": [
       "<div><style>\n",
       ".dataframe > thead > tr > th,\n",
       ".dataframe > tbody > tr > td {\n",
       "  text-align: right;\n",
       "}\n",
       "</style>\n",
       "<small>shape: (5, 9)</small><table border=\"1\" class=\"dataframe\"><thead><tr><th>chrom</th><th>start</th><th>end</th><th>length</th><th>state</th><th>mean_prob</th><th>snps</th><th>ID</th><th>pop</th></tr><tr><td>i64</td><td>i64</td><td>i64</td><td>i64</td><td>str</td><td>f64</td><td>i64</td><td>str</td><td>str</td></tr></thead><tbody><tr><td>1</td><td>0</td><td>1000</td><td>1000</td><td>&quot;Archaic&quot;</td><td>0.51065</td><td>0</td><td>&quot;HG00698&quot;</td><td>&quot;CHS&quot;</td></tr><tr><td>1</td><td>0</td><td>2000</td><td>2000</td><td>&quot;Archaic&quot;</td><td>0.51407</td><td>0</td><td>&quot;HG00674&quot;</td><td>&quot;CHS&quot;</td></tr><tr><td>1</td><td>0</td><td>7000</td><td>7000</td><td>&quot;Archaic&quot;</td><td>0.54458</td><td>0</td><td>&quot;HG00442&quot;</td><td>&quot;CHS&quot;</td></tr><tr><td>1</td><td>0</td><td>11000</td><td>11000</td><td>&quot;Archaic&quot;</td><td>0.56568</td><td>0</td><td>&quot;HG00566&quot;</td><td>&quot;CHS&quot;</td></tr><tr><td>1</td><td>0</td><td>15000</td><td>15000</td><td>&quot;Archaic&quot;</td><td>0.61127</td><td>0</td><td>&quot;HG00707&quot;</td><td>&quot;CHS&quot;</td></tr></tbody></table></div>"
      ],
      "text/plain": [
       "shape: (5, 9)\n",
       "┌───────┬───────┬───────┬────────┬───┬───────────┬──────┬─────────┬─────┐\n",
       "│ chrom ┆ start ┆ end   ┆ length ┆ … ┆ mean_prob ┆ snps ┆ ID      ┆ pop │\n",
       "│ ---   ┆ ---   ┆ ---   ┆ ---    ┆   ┆ ---       ┆ ---  ┆ ---     ┆ --- │\n",
       "│ i64   ┆ i64   ┆ i64   ┆ i64    ┆   ┆ f64       ┆ i64  ┆ str     ┆ str │\n",
       "╞═══════╪═══════╪═══════╪════════╪═══╪═══════════╪══════╪═════════╪═════╡\n",
       "│ 1     ┆ 0     ┆ 1000  ┆ 1000   ┆ … ┆ 0.51065   ┆ 0    ┆ HG00698 ┆ CHS │\n",
       "│ 1     ┆ 0     ┆ 2000  ┆ 2000   ┆ … ┆ 0.51407   ┆ 0    ┆ HG00674 ┆ CHS │\n",
       "│ 1     ┆ 0     ┆ 7000  ┆ 7000   ┆ … ┆ 0.54458   ┆ 0    ┆ HG00442 ┆ CHS │\n",
       "│ 1     ┆ 0     ┆ 11000 ┆ 11000  ┆ … ┆ 0.56568   ┆ 0    ┆ HG00566 ┆ CHS │\n",
       "│ 1     ┆ 0     ┆ 15000 ┆ 15000  ┆ … ┆ 0.61127   ┆ 0    ┆ HG00707 ┆ CHS │\n",
       "└───────┴───────┴───────┴────────┴───┴───────────┴──────┴─────────┴─────┘"
      ]
     },
     "execution_count": 5,
     "metadata": {},
     "output_type": "execute_result"
    }
   ],
   "source": [
    "# create list for storing df from each file \n",
    "dfs = []\n",
    "\n",
    "# for each file extract pop and ID from the file name and add to each df \n",
    "for file in decoded_files:\n",
    "    file_name = file.split('.')[0]\n",
    "    ind_id = file_name.split('/')[2]\n",
    "    pop = file_name.split('/')[1]\n",
    "    \n",
    "    df = pl.read_csv(file, has_header=True, separator='\\t')\n",
    "    \n",
    "    # Adding ID and pop to each df\n",
    "    df_1 = df.with_columns( # with _columns to add columns to a data frame \n",
    "        (pl.lit(ind_id).alias(\"ID\")), # pl.lit returns literal value pl.alias to name a column\n",
    "        (pl.lit(pop).alias(\"pop\")),\n",
    "        (pl.col(\"end\") + 1000) # adding 1000 to the end coordinate to match fragment length \n",
    "        )\n",
    "    # print(df_1.head(5))\n",
    "\n",
    "    dfs.append(df_1) # adding df to the dfs list \n",
    "\n",
    "# concatenating dfs from the list using align option to align dfs by column names \n",
    "decoded_df = pl.concat(dfs, how='align')\n",
    "decoded_df.head(5)"
   ]
  },
  {
   "cell_type": "code",
   "execution_count": 6,
   "metadata": {},
   "outputs": [],
   "source": [
    "def interval(prob: float) -> str:\n",
    "    \"\"\"Define a function for binning mean_prob into intervals \n",
    "    \"\"\"\n",
    "    if prob >= 0.5 and prob < 0.6:\n",
    "        return(\"[0.5-0.6)\")\n",
    "    elif prob >= 0.6 and prob < 0.7:\n",
    "        return(\"[0.6-0.7)\")\n",
    "    elif prob >= 0.7 and prob < 0.8:\n",
    "        return(\"[0.7-0.8)\")\n",
    "    elif prob >= 0.8 and prob < 0.9:\n",
    "        return(\"[0.8-0.9)\")\n",
    "    elif prob >= 0.9 and prob < 0.95:\n",
    "        return(\"[0.9-0.95)\")\n",
    "    elif prob >= 0.95 and prob < 0.99:\n",
    "        return(\"[0.95-0.99)\")\n",
    "    elif prob >= 0.99 and prob < 1:\n",
    "        return(\"[0.99-1)\")\n",
    "    elif prob == 1:\n",
    "        return(\"1\")\n"
   ]
  },
  {
   "cell_type": "code",
   "execution_count": null,
   "metadata": {},
   "outputs": [],
   "source": [
    "# Archaic only df with added column of posterior probability intervals for further processing. Without snp count and coordinates. \n",
    "archaic_df = (decoded_df.filter(pl.col(\"state\") == \"Archaic\")\n",
    "              .select([\"pop\", \"ID\", \"length\", \"mean_prob\"])\n",
    "              .with_columns(\n",
    "                  (pl.col(\"mean_prob\").apply(lambda x: interval(x)).alias(\"interval_prob\"),\n",
    "                   pl.col(\"mean_prob\").round(1).alias(\"rounded_mean_prob\"))\n",
    "))\n",
    "# print(archaic_df.head(20))\n",
    "\n",
    "# Plotting a histogram of fragment length against rounded mean_prob\n",
    "# px.histogram(archaic_df, x=\"length\", color=\"rounded_mean_prob\", log_x=True, \n",
    "#             labels={\"rounded_mean_prob\":\"rounded posterior probability\"}, \n",
    "#             title=\"Fragment length distribution (log-scaled) based on posterior probability cut-off\",\n",
    "#             opacity=0.8)\n",
    "\n",
    "# Plotting a histogram of fragment count against mean_prob\n",
    "# px.histogram(archaic_df, x=\"mean_prob\", nbins=50, color=\"pop\", marginal=\"box\", hover_data=archaic_df.columns, \n",
    "#              title=\"Archaic fragment distribution across posterior probability cut-off values\", \n",
    "#              labels={\"mean_prob\":\"posterior probability\", \"pop\":\"populations\"}, range_x=(0.5, 1))\n",
    " \n",
    "# Calculating fragment count and fragment length stats in defined posterior probability cutoff interavals\n",
    "# interval_archaic = archaic_df.groupby([\"interval_prob\", \"pop\"]).agg(\n",
    "#     (pl.count(\"interval_prob\").alias(\"fragment_count\")), \n",
    "#     (pl.mean(\"length\").alias(\"mean_length\")), \n",
    "#     (pl.median(\"length\").alias(\"median_length\")), \n",
    "#     (pl.min(\"length\").alias(\"min_length\")), \n",
    "#     (pl.max(\"length\").alias(\"max_lenght\"))\n",
    "#     ).sort(\"interval_prob\")\n",
    "# print(interval_archaic)\n",
    "\n",
    "# Saving interval_archaic dataframe to excel worksheet to produce a table figure \n",
    "# interval_archaic.write_excel(\"pos_ct/excel_output.xlsx\", \"probability_interval_stat\")"
   ]
  },
  {
   "cell_type": "code",
   "execution_count": 38,
   "metadata": {},
   "outputs": [
    {
     "data": {
      "text/html": [
       "<div><style>\n",
       ".dataframe > thead > tr > th,\n",
       ".dataframe > tbody > tr > td {\n",
       "  text-align: right;\n",
       "}\n",
       "</style>\n",
       "<small>shape: (4_224, 3)</small><table border=\"1\" class=\"dataframe\"><thead><tr><th>ID</th><th>chrom</th><th>count</th></tr><tr><td>str</td><td>i64</td><td>u32</td></tr></thead><tbody><tr><td>&quot;HG00530&quot;</td><td>1</td><td>130</td></tr><tr><td>&quot;HG00619&quot;</td><td>1</td><td>135</td></tr><tr><td>&quot;HG00103&quot;</td><td>1</td><td>86</td></tr><tr><td>&quot;HG00595&quot;</td><td>2</td><td>113</td></tr><tr><td>&quot;HG00126&quot;</td><td>2</td><td>108</td></tr><tr><td>&quot;HG00160&quot;</td><td>2</td><td>86</td></tr><tr><td>&quot;HG01334&quot;</td><td>3</td><td>80</td></tr><tr><td>&quot;HG00245&quot;</td><td>3</td><td>80</td></tr><tr><td>&quot;HG00690&quot;</td><td>3</td><td>111</td></tr><tr><td>&quot;HG00684&quot;</td><td>3</td><td>113</td></tr><tr><td>&quot;HG00701&quot;</td><td>3</td><td>115</td></tr><tr><td>&quot;HG00593&quot;</td><td>4</td><td>107</td></tr><tr><td>&hellip;</td><td>&hellip;</td><td>&hellip;</td></tr><tr><td>&quot;HG00236&quot;</td><td>18</td><td>38</td></tr><tr><td>&quot;HG00109&quot;</td><td>18</td><td>38</td></tr><tr><td>&quot;HG00451&quot;</td><td>19</td><td>13</td></tr><tr><td>&quot;HG00130&quot;</td><td>19</td><td>11</td></tr><tr><td>&quot;HG00672&quot;</td><td>19</td><td>15</td></tr><tr><td>&quot;HG00148&quot;</td><td>19</td><td>13</td></tr><tr><td>&quot;HG00704&quot;</td><td>20</td><td>23</td></tr><tr><td>&quot;HG00717&quot;</td><td>20</td><td>18</td></tr><tr><td>&quot;HG00260&quot;</td><td>20</td><td>29</td></tr><tr><td>&quot;HG00123&quot;</td><td>20</td><td>27</td></tr><tr><td>&quot;HG00476&quot;</td><td>21</td><td>10</td></tr><tr><td>&quot;HG00235&quot;</td><td>22</td><td>18</td></tr></tbody></table></div>"
      ],
      "text/plain": [
       "shape: (4_224, 3)\n",
       "┌─────────┬───────┬───────┐\n",
       "│ ID      ┆ chrom ┆ count │\n",
       "│ ---     ┆ ---   ┆ ---   │\n",
       "│ str     ┆ i64   ┆ u32   │\n",
       "╞═════════╪═══════╪═══════╡\n",
       "│ HG00530 ┆ 1     ┆ 130   │\n",
       "│ HG00619 ┆ 1     ┆ 135   │\n",
       "│ HG00103 ┆ 1     ┆ 86    │\n",
       "│ HG00595 ┆ 2     ┆ 113   │\n",
       "│ …       ┆ …     ┆ …     │\n",
       "│ HG00260 ┆ 20    ┆ 29    │\n",
       "│ HG00123 ┆ 20    ┆ 27    │\n",
       "│ HG00476 ┆ 21    ┆ 10    │\n",
       "│ HG00235 ┆ 22    ┆ 18    │\n",
       "└─────────┴───────┴───────┘"
      ]
     },
     "execution_count": 38,
     "metadata": {},
     "output_type": "execute_result"
    }
   ],
   "source": [
    "# Calculate archaic fragment length \n",
    "filtered_df = (decoded_df.filter(pl.col(\"state\") == \"Archaic\")\n",
    "              .filter(pl.col(\"mean_prob\") >= 0.9)\n",
    "              .select([\"pop\", \"ID\", \"chrom\", \"start\", \"end\", \"length\"])\n",
    ")\n",
    "\n",
    "filtered_df.groupby([\"ID\", \"chrom\"]).count()"
   ]
  },
  {
   "cell_type": "code",
   "execution_count": 41,
   "metadata": {},
   "outputs": [
    {
     "data": {
      "text/plain": [
       "5    5\n",
       "2    2\n",
       "3    2\n",
       "4    2\n",
       "1    1\n",
       "Name: count, dtype: int64"
      ]
     },
     "execution_count": 41,
     "metadata": {},
     "output_type": "execute_result"
    }
   ],
   "source": [
    "import pandas as pd\n",
    "\n",
    "\n",
    "s = pd.Series([1, 2, 2, 3, 3, 4, 4, 5, 5, 5, 5, 5])\n",
    "\n",
    "s.value_counts()\n"
   ]
  },
  {
   "cell_type": "code",
   "execution_count": 66,
   "metadata": {},
   "outputs": [
    {
     "data": {
      "text/html": [
       "<div><style>\n",
       ".dataframe > thead > tr > th,\n",
       ".dataframe > tbody > tr > td {\n",
       "  text-align: right;\n",
       "}\n",
       "</style>\n",
       "<small>shape: (10, 4)</small><table border=\"1\" class=\"dataframe\"><thead><tr><th>pop</th><th>ID</th><th>interval_prob</th><th>count</th></tr><tr><td>str</td><td>str</td><td>str</td><td>u32</td></tr></thead><tbody><tr><td>&quot;GBR&quot;</td><td>&quot;HG00128&quot;</td><td>&quot;0.9-0.95&quot;</td><td>423</td></tr><tr><td>&quot;GBR&quot;</td><td>&quot;HG00265&quot;</td><td>&quot;0.6-0.7&quot;</td><td>195</td></tr><tr><td>&quot;GBR&quot;</td><td>&quot;HG00111&quot;</td><td>&quot;0.99-1&quot;</td><td>8</td></tr><tr><td>&quot;GBR&quot;</td><td>&quot;HG00154&quot;</td><td>&quot;0.6-0.7&quot;</td><td>203</td></tr><tr><td>&quot;GBR&quot;</td><td>&quot;HG00264&quot;</td><td>&quot;0.7-0.8&quot;</td><td>279</td></tr><tr><td>&quot;GBR&quot;</td><td>&quot;HG00111&quot;</td><td>&quot;0.6-0.7&quot;</td><td>214</td></tr><tr><td>&quot;GBR&quot;</td><td>&quot;HG00265&quot;</td><td>&quot;0.99-1&quot;</td><td>5</td></tr><tr><td>&quot;GBR&quot;</td><td>&quot;HG00128&quot;</td><td>&quot;0.8-0.9&quot;</td><td>528</td></tr><tr><td>&quot;GBR&quot;</td><td>&quot;HG00096&quot;</td><td>&quot;0.5-0.6&quot;</td><td>228</td></tr><tr><td>&quot;GBR&quot;</td><td>&quot;HG00154&quot;</td><td>&quot;0.99-1&quot;</td><td>6</td></tr></tbody></table></div>"
      ],
      "text/plain": [
       "shape: (10, 4)\n",
       "┌─────┬─────────┬───────────────┬───────┐\n",
       "│ pop ┆ ID      ┆ interval_prob ┆ count │\n",
       "│ --- ┆ ---     ┆ ---           ┆ ---   │\n",
       "│ str ┆ str     ┆ str           ┆ u32   │\n",
       "╞═════╪═════════╪═══════════════╪═══════╡\n",
       "│ GBR ┆ HG00128 ┆ 0.9-0.95      ┆ 423   │\n",
       "│ GBR ┆ HG00265 ┆ 0.6-0.7       ┆ 195   │\n",
       "│ GBR ┆ HG00111 ┆ 0.99-1        ┆ 8     │\n",
       "│ GBR ┆ HG00154 ┆ 0.6-0.7       ┆ 203   │\n",
       "│ …   ┆ …       ┆ …             ┆ …     │\n",
       "│ GBR ┆ HG00265 ┆ 0.99-1        ┆ 5     │\n",
       "│ GBR ┆ HG00128 ┆ 0.8-0.9       ┆ 528   │\n",
       "│ GBR ┆ HG00096 ┆ 0.5-0.6       ┆ 228   │\n",
       "│ GBR ┆ HG00154 ┆ 0.99-1        ┆ 6     │\n",
       "└─────┴─────────┴───────────────┴───────┘"
      ]
     },
     "execution_count": 66,
     "metadata": {},
     "output_type": "execute_result"
    }
   ],
   "source": [
    "# Archaic only df\n",
    "# archaic_df = decoded_df.filter(pl.col(\"state\") == \"Archaic\").select([\"pop\", \"ID\", \"length\", \"mean_prob\"]) #.groupby([\"pop\", \"ID\"]) #.agg(pl.count(\"mean_prob\").alias(\"count\"))\n",
    "\n",
    "# def interval(prob):\n",
    "#     if prob >= 0.5 and prob < 0.6:\n",
    "#         return(\"0.5-0.6\")\n",
    "#     elif prob >= 0.6 and prob < 0.7:\n",
    "#         return(\"0.6-0.7\")\n",
    "#     elif prob >= 0.7 and prob < 0.8:\n",
    "#         return(\"0.7-0.8\")\n",
    "#     elif prob >= 0.8 and prob < 0.9:\n",
    "#         return(\"0.8-0.9\")\n",
    "#     elif prob >= 0.9 and prob < 0.95:\n",
    "#         return(\"0.9-0.95\")\n",
    "#     elif prob >= 0.95 and prob < 0.99:\n",
    "#         return(\"0.95-0.99\")\n",
    "#     elif prob >= 0.99 and prob < 1:\n",
    "#         return(\"0.99-1\")\n",
    "#     elif prob == 1:\n",
    "#         return(\"1\")\n",
    "\n",
    "# with_interval = archaic_df.with_columns(\n",
    "#     pl.col(\"mean_prob\").apply(lambda x: interval(x)).alias(\"interval_prob\")\n",
    "# ).groupby([\"pop\", \"ID\", \"interval_prob\"]).agg(pl.count(\"mean_prob\").alias(\"count\"))\n",
    "# with_interval.head(10) \n",
    "# for id, data in archaic_df:\n",
    "#     print(id)\n",
    "#     print(data)\n",
    "\n",
    "# intervals = [[0.5-0.6], [0.6-0.7], [0.7-0.8], [0.8-0.9], [0.9-0.95], [0.95-0.99], [0.99-1]]\n",
    "# archaic_df_with_intervals = archaic_df.with_columns(\n",
    "#     pl.when(pl.col(\"mean_prob\").is_in(intervals[0]))\n",
    "#     .then(pl.lit(\"0.5-0.6\"))\n",
    "#     .when(pl.col(\"mean_prob\").is_in(intervals[1]))\n",
    "#     .then(pl.lit(\"0.6-0.7\"))\n",
    "#     .when(pl.col(\"mean_prob\").is_in(intervals[2]))\n",
    "#     .then(pl.lit(\"0.7-0.8\"))\n",
    "#     .when(pl.col(\"mean_prob\").is_in(intervals[3]))\n",
    "#     .then(pl.lit(\"0.8-0.9\"))\n",
    "#     .when(pl.col(\"mean_prob\").is_in(intervals[4]))\n",
    "#     .then(pl.lit(\"0.9-0.95\"))\n",
    "#     .when(pl.col(\"mean_prob\").is_in(intervals[5]))\n",
    "#     .then(pl.lit(\"0.95-0.99\"))\n",
    "#     .when(pl.col(\"mean_prob\").is_in(intervals[6]))\n",
    "#     .then(pl.lit(\"0.99-1\"))\n",
    "#     .alias(\"prob_interval\")\n",
    "# )\n",
    "# archaic_df_with_intervals.head(10)\n",
    "\n",
    "# sns.histplot(archaic_df)\n"
   ]
  }
 ],
 "metadata": {
  "kernelspec": {
   "display_name": "darja_input_files",
   "language": "python",
   "name": "darja_input_files"
  },
  "language_info": {
   "codemirror_mode": {
    "name": "ipython",
    "version": 3
   },
   "file_extension": ".py",
   "mimetype": "text/x-python",
   "name": "python",
   "nbconvert_exporter": "python",
   "pygments_lexer": "ipython3",
   "version": "3.10.6"
  },
  "orig_nbformat": 4
 },
 "nbformat": 4,
 "nbformat_minor": 2
}
